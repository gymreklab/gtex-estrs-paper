{
 "cells": [
  {
   "cell_type": "code",
   "execution_count": 34,
   "metadata": {
    "collapsed": false
   },
   "outputs": [
    {
     "name": "stdout",
     "output_type": "stream",
     "text": [
      "Populating the interactive namespace from numpy and matplotlib\n"
     ]
    }
   ],
   "source": [
    "%pylab inline\n",
    "import pandas as pd"
   ]
  },
  {
   "cell_type": "code",
   "execution_count": 35,
   "metadata": {
    "collapsed": false
   },
   "outputs": [],
   "source": [
    "# Load pvals and LD\n",
    "\n",
    "#efile = \"../gwas/11_57523883__Adipose-Subcutaneous_pvals.txt\"\n",
    "#gfile = \"../gwas/pvals_MED19_SCZ2.txt\"\n",
    "#lfile = \"../gwas/11_57523883__Adipose-Subcutaneous_ld.txt\"\n",
    "\n",
    "efile = \"../gwas/16_68014740__WholeBlood_pvals.txt\"\n",
    "gfile = \"../gwas/pvals_LCAT_SCZ2.txt\"\n",
    "lfile = \"../gwas/16_68014740__WholeBlood_ld.txt\"\n",
    "\n",
    "#efile = \"../gwas/9_2622147__WholeBlood_pvals.txt\"\n",
    "#gfile = \"../gwas/pvals_VLDLR_HGB.txt\"\n",
    "#lfile = \"../gwas/9_2622147__WholeBlood_ld.txt\"\n",
    "\n",
    "expr_pvals = pd.read_csv(efile, sep=\"\\t\")[[\"BEGIN\",\"PVALUE\"]]\n",
    "gwas_pvals = pd.read_csv(gfile, sep=\"\\t\")[[\"BEGIN\",\"PVALUE\"]]\n",
    "\n",
    "ld = pd.read_csv(lfile, sep=\"\\t\")\n",
    "ld[\"BEGIN\"] = ld[\"snp1\"].apply(lambda x: int(x.split(\":\")[1]))"
   ]
  },
  {
   "cell_type": "code",
   "execution_count": 36,
   "metadata": {
    "collapsed": false
   },
   "outputs": [
    {
     "data": {
      "text/plain": [
       "<matplotlib.collections.PathCollection at 0x7f35569f90b8>"
      ]
     },
     "execution_count": 36,
     "metadata": {},
     "output_type": "execute_result"
    },
    {
     "data": {
      "image/png": "[encoded data removed]",
      "text/plain": [
       "<matplotlib.figure.Figure at 0x7f3557acf128>"
      ]
     },
     "metadata": {},
     "output_type": "display_data"
    }
   ],
   "source": [
    "# For Expr - ld vs. pval\n",
    "expr_ld = pd.merge(expr_pvals, ld, on=[\"BEGIN\"])\n",
    "fig = plt.figure()\n",
    "ax = fig.add_subplot(111)\n",
    "ax.scatter(expr_ld[\"rsquare\"], expr_ld[\"PVALUE\"].apply(lambda x: -1*np.log10(x)))"
   ]
  },
  {
   "cell_type": "code",
   "execution_count": 37,
   "metadata": {
    "collapsed": false
   },
   "outputs": [
    {
     "data": {
      "text/plain": [
       "<matplotlib.collections.PathCollection at 0x7f3556964080>"
      ]
     },
     "execution_count": 37,
     "metadata": {},
     "output_type": "execute_result"
    },
    {
     "data": {
      "image/png": "[encoded data removed]",
      "text/plain": [
       "<matplotlib.figure.Figure at 0x7f3556aab6a0>"
      ]
     },
     "metadata": {},
     "output_type": "display_data"
    }
   ],
   "source": [
    "# For GWAS - ld vs. pval\n",
    "gwas_ld = pd.merge(gwas_pvals, ld, on=[\"BEGIN\"])\n",
    "fig = plt.figure()\n",
    "ax = fig.add_subplot(111)\n",
    "ax.scatter(gwas_ld[\"rsquare\"], gwas_ld[\"PVALUE\"].apply(lambda x: -1*np.log10(x)))"
   ]
  },
  {
   "cell_type": "code",
   "execution_count": 38,
   "metadata": {
    "collapsed": false
   },
   "outputs": [
    {
     "data": {
      "text/plain": [
       "<matplotlib.collections.PathCollection at 0x7f35568c5940>"
      ]
     },
     "execution_count": 38,
     "metadata": {},
     "output_type": "execute_result"
    },
    {
     "data": {
      "image/png": "[encoded data removed]",
      "text/plain": [
       "<matplotlib.figure.Figure at 0x7f3556a12240>"
      ]
     },
     "metadata": {},
     "output_type": "display_data"
    }
   ],
   "source": [
    "# Compare pvals\n",
    "data = pd.merge(gwas_pvals, expr_pvals, on=[\"BEGIN\"])\n",
    "fig = plt.figure()\n",
    "ax = fig.add_subplot(111)\n",
    "ax.scatter(data[\"PVALUE_x\"].apply(lambda x: -1*np.log10(x)), data[\"PVALUE_y\"].apply(lambda x: -1*np.log10(x)))"
   ]
  }
 ],
 "metadata": {
  "kernelspec": {
   "display_name": "Python 3",
   "language": "python",
   "name": "python3"
  },
  "language_info": {
   "codemirror_mode": {
    "name": "ipython",
    "version": 3
   },
   "file_extension": ".py",
   "mimetype": "text/x-python",
   "name": "python",
   "nbconvert_exporter": "python",
   "pygments_lexer": "ipython3",
   "version": "3.4.5"
  }
 },
 "nbformat": 4,
 "nbformat_minor": 2
}
