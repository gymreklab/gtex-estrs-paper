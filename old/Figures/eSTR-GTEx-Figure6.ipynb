{
 "cells": [
  {
   "cell_type": "markdown",
   "metadata": {},
   "source": [
    "# Part 5: eSTRs are potential drivers of published GWAS signals - RFT1 analysis\n",
    "\n",
    "This notebook contains:\n",
    "\n",
    "#### Figures:\n",
    "* **Figure 6B**: RFT1 expression summary stats\n",
    "* **Figure 6B**: RFT1 GWAS summary stats\n",
    "* **Figure 6D**: Manhattan plot of eMerge vs. Yengo\n",
    "* **Figure 6E**: RFT1 vs. height\n",
    "* **Figure 6F**: Odds ratio vs. repeat number\n",
    "* **Figure 6G**: Reporter assay results\n",
    "\n",
    "Note, **Figure 6A** of STRs vs. expression is in the ExampleESTRs notebook\n",
    "\n",
    "#### Supplementary Figures:\n"
   ]
  },
  {
   "cell_type": "code",
   "execution_count": 2,
   "metadata": {},
   "outputs": [
    {
     "name": "stdout",
     "output_type": "stream",
     "text": [
      "Populating the interactive namespace from numpy and matplotlib\n"
     ]
    }
   ],
   "source": [
    "# Set up\n",
    "%pylab inline\n",
    "%run params.py\n",
    "\n",
    "# Allow us to edit fonts in Illustrator\n",
    "import matplotlib\n",
    "matplotlib.rcParams['ps.useafm'] = True\n",
    "matplotlib.rcParams['pdf.use14corefonts'] = True\n",
    "matplotlib.rcParams['text.usetex'] = True\n",
    "\n",
    "# Import libraries\n",
    "import os\n",
    "import pandas as pd\n",
    "import scipy.stats\n",
    "import seaborn as sns\n",
    "from sklearn.cluster import KMeans\n",
    "\n",
    "############ Set up paths #############\n",
    "SAVEPLOT = True\n",
    "PREFIX = \"eSTR-GWAS\"\n",
    "FIGPREFIX = \"Figure6\"\n",
    "RESULTSDIR = \"/storage/mgymrek/gtex-estrs/revision/figures/\"\n",
    "\n",
    "############ Load data #############\n",
    "emerge_snp_assoc = pd.read_csv(\"/storage/mgymrek/eMERGE/snp_assoc/chr3.assoc.linear\", delim_whitespace=True)\n",
    "emerge_snp_assoc[\"POS\"] = emerge_snp_assoc[\"BP\"]\n",
    "yengo_snp = pd.read_csv(\"/storage/mgymrek/eMERGE/height_ukb_chr3.tab\", delim_whitespace=True)\n",
    "strassoc = pd.read_csv(\"/storage/mgymrek/eMERGE/test_str_assoc/RFT1.tab\", sep=\"\\t\", comment=\"#\")\n",
    "dmatrix = pd.read_csv(\"/storage/mgymrek/eMERGE/test_str_assoc/RFT1.dmatrix.tab\", sep=\"\\t\")"
   ]
  },
  {
   "cell_type": "markdown",
   "metadata": {},
   "source": [
    "# Figure 6D: Manhattan plot for eMERGE/Yengo"
   ]
  },
  {
   "cell_type": "code",
   "execution_count": 22,
   "metadata": {},
   "outputs": [
    {
     "data": {
      "text/html": [
       "<div>\n",
       "<style scoped>\n",
       "    .dataframe tbody tr th:only-of-type {\n",
       "        vertical-align: middle;\n",
       "    }\n",
       "\n",
       "    .dataframe tbody tr th {\n",
       "        vertical-align: top;\n",
       "    }\n",
       "\n",
       "    .dataframe thead th {\n",
       "        text-align: right;\n",
       "    }\n",
       "</style>\n",
       "<table border=\"1\" class=\"dataframe\">\n",
       "  <thead>\n",
       "    <tr style=\"text-align: right;\">\n",
       "      <th></th>\n",
       "      <th>CHR</th>\n",
       "      <th>SNP</th>\n",
       "      <th>BP</th>\n",
       "      <th>A1</th>\n",
       "      <th>TEST</th>\n",
       "      <th>NMISS</th>\n",
       "      <th>BETA</th>\n",
       "      <th>STAT</th>\n",
       "      <th>P_x</th>\n",
       "      <th>POS</th>\n",
       "      <th>P_y</th>\n",
       "    </tr>\n",
       "  </thead>\n",
       "  <tbody>\n",
       "    <tr>\n",
       "      <th>63</th>\n",
       "      <td>3</td>\n",
       "      <td>3:53134098:T:C</td>\n",
       "      <td>53134098</td>\n",
       "      <td>T</td>\n",
       "      <td>ADD</td>\n",
       "      <td>11587</td>\n",
       "      <td>0.04104</td>\n",
       "      <td>3.037</td>\n",
       "      <td>0.002396</td>\n",
       "      <td>53134098</td>\n",
       "      <td>1.500000e-97</td>\n",
       "    </tr>\n",
       "  </tbody>\n",
       "</table>\n",
       "</div>"
      ],
      "text/plain": [
       "    CHR             SNP        BP A1 TEST  NMISS     BETA   STAT       P_x  \\\n",
       "63    3  3:53134098:T:C  53134098  T  ADD  11587  0.04104  3.037  0.002396   \n",
       "\n",
       "         POS           P_y  \n",
       "63  53134098  1.500000e-97  "
      ]
     },
     "execution_count": 22,
     "metadata": {},
     "output_type": "execute_result"
    }
   ],
   "source": [
    "strassoc\n",
    "ss_rft1[ss_rft1[\"POS\"]==lead_yengo]"
   ]
  },
  {
   "cell_type": "code",
   "execution_count": null,
   "metadata": {
    "collapsed": true
   },
   "outputs": [],
   "source": []
  },
  {
   "cell_type": "code",
   "execution_count": 3,
   "metadata": {},
   "outputs": [
    {
     "name": "stdout",
     "output_type": "stream",
     "text": [
      "lead SNP yengo: 53134098 1.4999999999999996e-97 0.002396\n",
      "str pval 0.00328\n"
     ]
    },
    {
     "data": {
      "image/png": "[encoded data removed]",
      "text/plain": [
       "<Figure size 432x288 with 2 Axes>"
      ]
     },
     "metadata": {
      "needs_background": "light"
     },
     "output_type": "display_data"
    }
   ],
   "source": [
    "\n",
    "# Load SNP\n",
    "summstats = pd.merge(emerge_snp_assoc, yengo_snp, on=[\"POS\"])\n",
    "ss_rft1 = summstats[(summstats[\"BP\"]>53022501) & (summstats[\"BP\"]<53264470)]\n",
    "lead_yengo = ss_rft1.sort_values(\"P_y\")[\"POS\"].values[0]\n",
    "lead_snp = ss_rft1[ss_rft1[\"POS\"]==lead_yengo]\n",
    "print(\"lead SNP yengo: %s %s %s\"%(lead_snp[\"BP\"].values[0], lead_snp[\"P_y\"].values[0], lead_snp[\"P_x\"].values[0]))\n",
    "\n",
    "# Load STR\n",
    "strpos = strassoc[\"start\"].values[0]\n",
    "strp = strassoc[strassoc[\"type\"].apply(lambda x: \"STR_\" in x)][\"p-val\"].values[0]\n",
    "print(\"str pval %s\"%strp)\n",
    "msize = 50\n",
    "mval = \"*\"\n",
    "fig = plt.figure()\n",
    "ax = fig.add_subplot(211)\n",
    "ax.scatter(ss_rft1[\"BP\"], ss_rft1[\"P_x\"].apply(lambda x: -1*np.log10(x)), s=2, color=\"black\")\n",
    "ax.scatter(lead_snp[\"BP\"], lead_snp[\"P_x\"].apply(lambda x: -1*np.log10(x)), s=msize, color=\"blue\", marker=mval)\n",
    "ax.scatter([strpos], [-1*np.log10(strp)], s=msize, color=\"red\", marker=mval)\n",
    "\n",
    "ax.set_ylabel(\"-log10 P (eMERGE)\", size=12)\n",
    "\n",
    "ax = fig.add_subplot(212)\n",
    "ax.scatter(ss_rft1[\"BP\"], ss_rft1[\"P_y\"].apply(lambda x: -1*np.log10(x)), s=2, color=\"black\")\n",
    "ax.scatter(lead_snp[\"BP\"], lead_snp[\"P_y\"].apply(lambda x: -1*np.log10(x)), s=msize, color=\"blue\", marker=mval)\n",
    "ax.set_ylabel(\"-log10 P (Yengo, et al.)\", size=12)\n",
    "\n",
    "fig.tight_layout()\n",
    "fig.savefig(os.path.join(RESULTSDIR, \"%s_RFT1_Manhattan_eMERGE.pdf\"%FIGPREFIX))"
   ]
  },
  {
   "cell_type": "markdown",
   "metadata": {},
   "source": [
    "# Figure 6E: rpt. num vs. height"
   ]
  },
  {
   "cell_type": "code",
   "execution_count": 4,
   "metadata": {},
   "outputs": [
    {
     "name": "stderr",
     "output_type": "stream",
     "text": [
      "/home/mgymrek/.local/lib/python2.7/site-packages/pandas/core/groupby/groupby.py:4656: FutureWarning: using a dict with renaming is deprecated and will be removed in a future version\n",
      "  return super(DataFrameGroupBy, self).aggregate(arg, *args, **kwargs)\n"
     ]
    },
    {
     "data": {
      "text/html": [
       "<div>\n",
       "<style scoped>\n",
       "    .dataframe tbody tr th:only-of-type {\n",
       "        vertical-align: middle;\n",
       "    }\n",
       "\n",
       "    .dataframe tbody tr th {\n",
       "        vertical-align: top;\n",
       "    }\n",
       "\n",
       "    .dataframe thead th {\n",
       "        text-align: right;\n",
       "    }\n",
       "</style>\n",
       "<table border=\"1\" class=\"dataframe\">\n",
       "  <thead>\n",
       "    <tr style=\"text-align: right;\">\n",
       "      <th></th>\n",
       "      <th>var</th>\n",
       "      <th>num</th>\n",
       "      <th>median</th>\n",
       "      <th>mean</th>\n",
       "      <th>GT</th>\n",
       "    </tr>\n",
       "    <tr>\n",
       "      <th>GT</th>\n",
       "      <th></th>\n",
       "      <th></th>\n",
       "      <th></th>\n",
       "      <th></th>\n",
       "      <th></th>\n",
       "    </tr>\n",
       "  </thead>\n",
       "  <tbody>\n",
       "    <tr>\n",
       "      <th>82</th>\n",
       "      <td>1.016427</td>\n",
       "      <td>2331.0</td>\n",
       "      <td>-0.023527</td>\n",
       "      <td>-0.028960</td>\n",
       "      <td>82</td>\n",
       "    </tr>\n",
       "    <tr>\n",
       "      <th>86</th>\n",
       "      <td>0.861985</td>\n",
       "      <td>935.0</td>\n",
       "      <td>-0.005934</td>\n",
       "      <td>-0.013238</td>\n",
       "      <td>86</td>\n",
       "    </tr>\n",
       "    <tr>\n",
       "      <th>88</th>\n",
       "      <td>0.990602</td>\n",
       "      <td>1922.0</td>\n",
       "      <td>0.025828</td>\n",
       "      <td>0.020825</td>\n",
       "      <td>88</td>\n",
       "    </tr>\n",
       "    <tr>\n",
       "      <th>90</th>\n",
       "      <td>0.990028</td>\n",
       "      <td>385.0</td>\n",
       "      <td>0.091516</td>\n",
       "      <td>0.061342</td>\n",
       "      <td>90</td>\n",
       "    </tr>\n",
       "    <tr>\n",
       "      <th>92</th>\n",
       "      <td>1.136300</td>\n",
       "      <td>362.0</td>\n",
       "      <td>0.020747</td>\n",
       "      <td>0.050369</td>\n",
       "      <td>92</td>\n",
       "    </tr>\n",
       "    <tr>\n",
       "      <th>94</th>\n",
       "      <td>1.125650</td>\n",
       "      <td>458.0</td>\n",
       "      <td>0.128491</td>\n",
       "      <td>0.097124</td>\n",
       "      <td>94</td>\n",
       "    </tr>\n",
       "  </tbody>\n",
       "</table>\n",
       "</div>"
      ],
      "text/plain": [
       "         var     num    median      mean  GT\n",
       "GT                                          \n",
       "82  1.016427  2331.0 -0.023527 -0.028960  82\n",
       "86  0.861985   935.0 -0.005934 -0.013238  86\n",
       "88  0.990602  1922.0  0.025828  0.020825  88\n",
       "90  0.990028   385.0  0.091516  0.061342  90\n",
       "92  1.136300   362.0  0.020747  0.050369  92\n",
       "94  1.125650   458.0  0.128491  0.097124  94"
      ]
     },
     "execution_count": 4,
     "metadata": {},
     "output_type": "execute_result"
    },
    {
     "data": {
      "image/png": "[encoded data removed]",
      "text/plain": [
       "<Figure size 360x144 with 1 Axes>"
      ]
     },
     "metadata": {
      "needs_background": "light"
     },
     "output_type": "display_data"
    }
   ],
   "source": [
    "dd = dmatrix.groupby(\"GT\", as_index=True).agg({\"phenotype\": {\"mean\": np.mean, \"median\": np.median, \"num\": len, \"var\": np.var}})\n",
    "dd.columns = dd.columns.get_level_values(1)\n",
    "dd[\"GT\"] = dd.index\n",
    "\n",
    "cutoff = 100\n",
    "ddx = dd[dd[\"num\"]>=cutoff]\n",
    "ddy = dd[dd[\"num\"]<cutoff]\n",
    "\n",
    "fig = plt.figure()\n",
    "fig.set_size_inches((5, 2))\n",
    "ax = fig.add_subplot(111)\n",
    "ax.errorbar(ddx[\"GT\"], ddx[\"mean\"], ddx.apply(lambda x: np.sqrt(x[\"var\"]/x[\"num\"]), 1),\n",
    "            linewidth=0.5, elinewidth=1, marker=\"o\", color=\"black\")\n",
    "#ax.errorbar(ddy[\"GT\"], ddy[\"mean\"], ddy.apply(lambda x: np.sqrt(x[\"var\"]/x[\"num\"]), 1),\n",
    "#            linewidth=0, elinewidth=1, marker=\"o\", color=\"gray\")\n",
    "ax.spines['right'].set_visible(False)\n",
    "ax.spines['top'].set_visible(False)\n",
    "ax.yaxis.set_ticks_position('left')\n",
    "ax.xaxis.set_ticks_position('bottom')\n",
    "ax.set_xlabel(\"Mean repeat number\", size=15)\n",
    "ax.set_ylabel(\"Mean height\", size=15)\n",
    "#ax.set_ylim(bottom=-0.1, top=0.3)\n",
    "ax.set_xticklabels(ax.get_xticks(), size=12)\n",
    "ax.set_yticklabels([\"%.2f\"%item for item in ax.get_yticks()], size=12)\n",
    "fig.savefig(os.path.join(RESULTSDIR, \"%s_RFT1_rpt_vs_height_eMERGE.pdf\"%FIGPREFIX))\n",
    "dd"
   ]
  },
  {
   "cell_type": "markdown",
   "metadata": {},
   "source": [
    "# Figure 6F: Reporter assay"
   ]
  },
  {
   "cell_type": "code",
   "execution_count": 5,
   "metadata": {
    "collapsed": true
   },
   "outputs": [],
   "source": [
    "# Extract RFT1 expression data\n",
    "def ExtractData(gene, chrom, start, tissue):\n",
    "    if \"(\" in tissue: tissue = tissue.split(\"(\")[0]\n",
    "    vcf = \"/storage/szfeupe/Runs/650GTEx_estr/Merged_STRs_all_samples.vcf.gz\"\n",
    "    # Pull out STR genotypes\n",
    "    cmd = \"\"\"bcftools query -r %s:%s-%s -f\"[%%SAMPLE\\\\t%%GB\\\\n]\" %s | \\\n",
    "    grep -v \"\\.\" | sed 's/|/\\\\t/' | awk '{print $1 \"\\\\t\" $2+$3}' > str_genotypes.tab\"\"\"%(chrom.replace(\"chr\",\"\"), start, start, vcf)\n",
    "    os.system(cmd)\n",
    "    # Pull out gene expression\n",
    "    expr=\"/storage/szfeupe/Runs/650GTEx_estr/Analysis_by_Tissue/%s/Corr_Expr.csv\"%tissue\n",
    "    colnum = open(expr,\"r\").readline().split(\",\").index('\"' + gene + '\"')+2\n",
    "    cmd = \"\"\"cat %s | cut -d',' -f 1,%s | grep -v ENSG > expr.tab\"\"\"%(expr, colnum)\n",
    "    os.system(cmd)\n",
    "    \n",
    "ExtractData(\"ENSG00000163933.5\", \"chr3\", 53128363, \"Artery-Aorta\")\n",
    "strgt = pd.read_csv(\"str_genotypes.tab\", sep=\"\\t\", names=[\"sample\",\"str\"])\n",
    "strgt[\"sample\"] = strgt[\"sample\"].apply(lambda x: \"-\".join(x.split(\"-\")[0:2]))\n",
    "expr = pd.read_csv(\"expr.tab\", names=[\"sample\",\"expr\"])\n",
    "data = pd.merge(strgt, expr)"
   ]
  },
  {
   "cell_type": "code",
   "execution_count": 6,
   "metadata": {},
   "outputs": [
    {
     "data": {
      "text/html": [
       "<div>\n",
       "<style scoped>\n",
       "    .dataframe tbody tr th:only-of-type {\n",
       "        vertical-align: middle;\n",
       "    }\n",
       "\n",
       "    .dataframe tbody tr th {\n",
       "        vertical-align: top;\n",
       "    }\n",
       "\n",
       "    .dataframe thead th {\n",
       "        text-align: right;\n",
       "    }\n",
       "</style>\n",
       "<table border=\"1\" class=\"dataframe\">\n",
       "  <thead>\n",
       "    <tr style=\"text-align: right;\">\n",
       "      <th></th>\n",
       "      <th>str</th>\n",
       "      <th>strsdexpr</th>\n",
       "      <th>strnum</th>\n",
       "      <th>strmeanexpr</th>\n",
       "      <th>gt</th>\n",
       "    </tr>\n",
       "  </thead>\n",
       "  <tbody>\n",
       "    <tr>\n",
       "      <th>0</th>\n",
       "      <td>-22</td>\n",
       "      <td>0.161401</td>\n",
       "      <td>3.0</td>\n",
       "      <td>-0.708670</td>\n",
       "      <td>6</td>\n",
       "    </tr>\n",
       "    <tr>\n",
       "      <th>1</th>\n",
       "      <td>-20</td>\n",
       "      <td>0.423627</td>\n",
       "      <td>45.0</td>\n",
       "      <td>-0.445960</td>\n",
       "      <td>7</td>\n",
       "    </tr>\n",
       "    <tr>\n",
       "      <th>2</th>\n",
       "      <td>-18</td>\n",
       "      <td>0.605383</td>\n",
       "      <td>5.0</td>\n",
       "      <td>-0.335722</td>\n",
       "      <td>8</td>\n",
       "    </tr>\n",
       "    <tr>\n",
       "      <th>3</th>\n",
       "      <td>-16</td>\n",
       "      <td>0.466064</td>\n",
       "      <td>21.0</td>\n",
       "      <td>-0.079692</td>\n",
       "      <td>9</td>\n",
       "    </tr>\n",
       "    <tr>\n",
       "      <th>4</th>\n",
       "      <td>-14</td>\n",
       "      <td>0.401582</td>\n",
       "      <td>47.0</td>\n",
       "      <td>-0.014856</td>\n",
       "      <td>10</td>\n",
       "    </tr>\n",
       "    <tr>\n",
       "      <th>5</th>\n",
       "      <td>-12</td>\n",
       "      <td>0.454164</td>\n",
       "      <td>13.0</td>\n",
       "      <td>0.491939</td>\n",
       "      <td>11</td>\n",
       "    </tr>\n",
       "    <tr>\n",
       "      <th>6</th>\n",
       "      <td>-10</td>\n",
       "      <td>0.420481</td>\n",
       "      <td>15.0</td>\n",
       "      <td>0.616569</td>\n",
       "      <td>12</td>\n",
       "    </tr>\n",
       "  </tbody>\n",
       "</table>\n",
       "</div>"
      ],
      "text/plain": [
       "   str  strsdexpr  strnum  strmeanexpr  gt\n",
       "0  -22   0.161401     3.0    -0.708670   6\n",
       "1  -20   0.423627    45.0    -0.445960   7\n",
       "2  -18   0.605383     5.0    -0.335722   8\n",
       "3  -16   0.466064    21.0    -0.079692   9\n",
       "4  -14   0.401582    47.0    -0.014856  10\n",
       "5  -12   0.454164    13.0     0.491939  11\n",
       "6  -10   0.420481    15.0     0.616569  12"
      ]
     },
     "execution_count": 6,
     "metadata": {},
     "output_type": "execute_result"
    }
   ],
   "source": [
    "dd = data.groupby(\"str\", as_index=False).agg({\"expr\": {\"meanexpr\": np.mean, \"sdexpr\": lambda x: np.sqrt(np.var(x)), \"num\": len}})\n",
    "dd.columns = [\"str\"]+dd.columns.get_level_values(1)\n",
    "dd[\"gt\"] = (dd[\"str\"]/2+17).apply(int) # 17 repeats in ref genome, dinuc\n",
    "dd = dd[dd[\"gt\"]<=12]\n",
    "dd"
   ]
  },
  {
   "cell_type": "code",
   "execution_count": 41,
   "metadata": {},
   "outputs": [
    {
     "name": "stdout",
     "output_type": "stream",
     "text": [
      "(0.9869189501477705, 0.013081049852229467)\n",
      "T-test from empty 0 0.17221999269625277\n",
      "T-test from empty 5 0.49965876702884926\n",
      "T-test from empty 10 0.12745452959588882\n",
      "T-test from empty 12 0.02605355517234306\n",
      "T-test for 0 vs. 5: 0.002811099751376361\n",
      "T-test for 5 vs. 10: 0.005329552749096339\n",
      "T-test for 10 vs. 12: 0.09385068008190199\n"
     ]
    },
    {
     "data": {
      "image/png": "[encoded data removed]",
      "text/plain": [
       "<Figure size 432x288 with 1 Axes>"
      ]
     },
     "metadata": {
      "needs_background": "light"
     },
     "output_type": "display_data"
    }
   ],
   "source": [
    "rft1_vals = [\n",
    "    [3.707497693,4.065673655,3.864511626],\n",
    "    [4.78773303,4.501644861,4.555870539],\n",
    "    [5.688627718,5.688627718,5.155467566],\n",
    "    [5.418876832,6.46927529,6.820951242]\n",
    "]\n",
    "dhrs1_vals = [\n",
    "    [2.967732864,2.768968656,2.7077137],\n",
    "    [5.596787029,5.859725523,5.685063759],\n",
    "    [3.5948938,3.376481434,3.467178298]\n",
    "]\n",
    "htatip2_vals = [\n",
    "    [5.359804961,5.767828635,5.542973847],\n",
    "    [6.733610309,7.115738947,7.86978226],\n",
    "    [6.836058963,8.36171054,6.795353056]\n",
    "]\n",
    "empty_vals = [2.694100558,2.903661361,2.913570639]\n",
    "\n",
    "rft1_means = [np.mean(item) for item in rft1_vals]\n",
    "rft1_sds = [np.sqrt(np.var(item)) for item in rft1_vals]\n",
    "rft1_labels = [0,5,10,12]\n",
    "\n",
    "empty_mean = np.mean(empty_vals)\n",
    "empty_sd = np.sqrt(np.var(empty_vals))\n",
    "\n",
    "fig = plt.figure()\n",
    "ax = fig.add_subplot(111)\n",
    "#ax.bar(range(0, len(rft1_labels)+1), [empty_mean]+rft1_means, yerr=[empty_sd]+rft1_sds,\n",
    "#      color=\"white\", edgecolor=\"black\", width=0.5, capsize=5)\n",
    "#ax.errorbar(range(0, len(rft1_labels)+1), [empty_mean]+rft1_means, yerr=[empty_sd]+rft1_sds, marker=\"o\",\n",
    "#           capsize=7, color=\"gray\", ls=\"None\")\n",
    "ax.scatter(range(0, len(rft1_labels)+1), [empty_mean]+rft1_means, color=\"black\", marker=\"_\", s=1000)\n",
    "# Plot raw points\n",
    "xvals = []\n",
    "yvals = []\n",
    "for i in range(0, len(rft1_labels)+1):\n",
    "    xvals.extend([i-0.05,i,i+0.05])\n",
    "yvals = empty_vals\n",
    "for i in range(len(rft1_vals)): yvals.extend(rft1_vals[i])\n",
    "ax.scatter(xvals, yvals, color=\"gray\")\n",
    "ax.spines['right'].set_visible(False)\n",
    "ax.spines['top'].set_visible(False)\n",
    "ax.yaxis.set_ticks_position('left')\n",
    "ax.xaxis.set_ticks_position('bottom')\n",
    "ax.set_xlabel(\"Num. AC repeats\", size=15)\n",
    "ax.set_ylabel(\"Relative expr. (firefly/renilla)\", size=15);\n",
    "\n",
    "ax.set_xticks(range(0, len(rft1_labels)+1))\n",
    "ax.set_xticklabels([(item) for item in [\"empty\"]+rft1_labels], size=12, rotation=45)\n",
    "ax.set_yticklabels([\"%.1f\"%item for item in ax.get_yticks()], size=12);\n",
    "\n",
    "fig.savefig(os.path.join(RESULTSDIR, \"%s_RFT1_reporter.pdf\"%FIGPREFIX))\n",
    "\n",
    "# Stats\n",
    "print(scipy.stats.pearsonr(rft1_labels, rft1_means))\n",
    "\n",
    "# Each val vs. empty (1-sided)\n",
    "for i in range(len(rft1_vals)):\n",
    "    item = rft1_vals[i]\n",
    "    allele = rft1_labels[i]\n",
    "    print(\"T-test from empty %s %s\"%(allele, scipy.stats.ttest_ind(empty_vals,item)[1]/2))\n",
    "\n",
    "# Each val vs. next lowest (1-sided)\n",
    "for i in range(1, len(rft1_vals)):\n",
    "    print(\"T-test for %s vs. %s: %s\"%(rft1_labels[i-1], rft1_labels[i], scipy.stats.ttest_ind(rft1_vals[i], rft1_vals[i-1])[1]/2))"
   ]
  },
  {
   "cell_type": "code",
   "execution_count": 8,
   "metadata": {},
   "outputs": [
    {
     "data": {
      "text/plain": [
       "'/storage/mgymrek/gtex-estrs-paper/results/eSTR-GWAS'"
      ]
     },
     "execution_count": 8,
     "metadata": {},
     "output_type": "execute_result"
    }
   ],
   "source": [
    "RESULTSDIR"
   ]
  }
 ],
 "metadata": {
  "kernelspec": {
   "display_name": "Python 3",
   "language": "python",
   "name": "python3"
  },
  "language_info": {
   "codemirror_mode": {
    "name": "ipython",
    "version": 3
   },
   "file_extension": ".py",
   "mimetype": "text/x-python",
   "name": "python",
   "nbconvert_exporter": "python",
   "pygments_lexer": "ipython3",
   "version": "3.4.5"
  }
 },
 "nbformat": 4,
 "nbformat_minor": 2
}
