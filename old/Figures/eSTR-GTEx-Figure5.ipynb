{
 "cells": [
  {
   "cell_type": "markdown",
   "metadata": {},
   "source": [
    "# Part 5: eSTRs are potential drivers of published GWAS signals\n",
    "\n",
    "This notebook contains:\n",
    "\n",
    "#### Figures:\n",
    "* **Figure 5C**: MED19 expression summary stats\n",
    "* **Figure 5C**: MED19 GWAS summary stats\n",
    "\n",
    "Note, **Figure 5B**, **Figure S7A**, and **Figure S7C** of STRs vs. expression are in the ExampleESTRs notebook\n",
    "\n",
    "#### Supplementary Figures:\n",
    "* **Supplementary Figure 7B**: Summary statistics for SLC36A1\n",
    "* **Supplementary Figure 7D**: Summary statistics of VLDLR\n",
    "\n",
    "#### Supplementary Tables:\n",
    "* **Supplementary Table 7**: Overlap with NHGRI catalog\n",
    "* **Supplementary Table 8**: Overlap with Height/SCZ GWAS\n",
    "* **Supplementary Dataset 2**: All eSTRs nearby NHGRI GWAS hits"
   ]
  }
 ],
 "metadata": {
  "kernelspec": {
   "display_name": "Python 3",
   "language": "python",
   "name": "python3"
  },
  "language_info": {
   "codemirror_mode": {
    "name": "ipython",
    "version": 3
   },
   "file_extension": ".py",
   "mimetype": "text/x-python",
   "name": "python",
   "nbconvert_exporter": "python",
   "pygments_lexer": "ipython3",
   "version": "3.4.5"
  }
 },
 "nbformat": 4,
 "nbformat_minor": 2
}
