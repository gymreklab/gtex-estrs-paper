{
 "cells": [
  {
   "cell_type": "code",
   "execution_count": null,
   "metadata": {
    "collapsed": true
   },
   "outputs": [],
   "source": [
    "# TODO use intercept?"
   ]
  },
  {
   "cell_type": "code",
   "execution_count": 14,
   "metadata": {
    "collapsed": false
   },
   "outputs": [
    {
     "name": "stdout",
     "output_type": "stream",
     "text": [
      "Populating the interactive namespace from numpy and matplotlib\n"
     ]
    }
   ],
   "source": [
    "%pylab inline\n",
    "import statsmodels.api as sm\n",
    "import pandas as pd\n",
    "\n",
    "df = pd.read_csv(\"/storage/s1saini/dbgap_estr_analysis_sept18/sampleid_smtag_info_str_snp.txt\", sep=\"\\t\")\n",
    "df[\"snp.gt\"] = df[\"SNP\"].apply(lambda x: sum([int(item) for item in x.split(\"/\")]))\n",
    "df[\"pt\"] = df[\"PHENO\"].apply(lambda x: 1 if x==\"Yes\" else 0)"
   ]
  },
  {
   "cell_type": "code",
   "execution_count": 25,
   "metadata": {
    "collapsed": false
   },
   "outputs": [
    {
     "name": "stdout",
     "output_type": "stream",
     "text": [
      "0.6615853658536586\n",
      "0.7086614173228346\n"
     ]
    }
   ],
   "source": [
    "# SNP frequency in cases/controls\n",
    "print( np.sum(df[df[\"pt\"]==1][\"snp.gt\"])/(df[df[\"pt\"]==1].shape[0]*2))\n",
    "print( np.sum(df[df[\"pt\"]==0][\"snp.gt\"])/(df[df[\"pt\"]==0].shape[0]*2))"
   ]
  },
  {
   "cell_type": "code",
   "execution_count": 41,
   "metadata": {
    "collapsed": false,
    "scrolled": false
   },
   "outputs": [
    {
     "name": "stdout",
     "output_type": "stream",
     "text": [
      "Optimization terminated successfully.\n",
      "         Current function value: 0.507042\n",
      "         Iterations 5\n",
      "0.8000755883632112\n",
      "                           Logit Regression Results                           \n",
      "==============================================================================\n",
      "Dep. Variable:                     pt   No. Observations:                  611\n",
      "Model:                          Logit   Df Residuals:                      609\n",
      "Method:                           MLE   Df Model:                            1\n",
      "Date:                Tue, 25 Sep 2018   Pseudo R-squ.:                0.003660\n",
      "Time:                        16:01:41   Log-Likelihood:                -309.80\n",
      "converged:                       True   LL-Null:                       -310.94\n",
      "                                        LLR p-value:                    0.1314\n",
      "==============================================================================\n",
      "                 coef    std err          z      P>|z|      [0.025      0.975]\n",
      "------------------------------------------------------------------------------\n",
      "intercept      1.6534      0.232      7.119      0.000       1.198       2.109\n",
      "snp.gt        -0.2230      0.150     -1.491      0.136      -0.516       0.070\n",
      "==============================================================================\n"
     ]
    },
    {
     "name": "stderr",
     "output_type": "stream",
     "text": [
      "/usr/lib/python3.4/site-packages/ipykernel/__main__.py:3: SettingWithCopyWarning: \n",
      "A value is trying to be set on a copy of a slice from a DataFrame.\n",
      "Try using .loc[row_indexer,col_indexer] = value instead\n",
      "\n",
      "See the caveats in the documentation: http://pandas.pydata.org/pandas-docs/stable/indexing.html#indexing-view-versus-copy\n",
      "  app.launch_new_instance()\n"
     ]
    }
   ],
   "source": [
    "# Check for SNP association\n",
    "data = df[[\"pt\",\"snp.gt\"]]\n",
    "data[\"intercept\"] = 1.0\n",
    "\n",
    "logit = sm.Logit(data[\"pt\"], data[[\"intercept\",\"snp.gt\"]])\n",
    "result = logit.fit()\n",
    "print(np.exp(result.params[\"snp.gt\"]))\n",
    "print(result.summary())"
   ]
  },
  {
   "cell_type": "code",
   "execution_count": 44,
   "metadata": {
    "collapsed": false
   },
   "outputs": [
    {
     "name": "stdout",
     "output_type": "stream",
     "text": [
      "Optimization terminated successfully.\n",
      "         Current function value: 0.508861\n",
      "         Iterations 5\n",
      "1.0052343116158222\n",
      "                           Logit Regression Results                           \n",
      "==============================================================================\n",
      "Dep. Variable:                     pt   No. Observations:                  611\n",
      "Model:                          Logit   Df Residuals:                      609\n",
      "Method:                           MLE   Df Model:                            1\n",
      "Date:                Tue, 25 Sep 2018   Pseudo R-squ.:               8.471e-05\n",
      "Time:                        16:02:15   Log-Likelihood:                -310.91\n",
      "converged:                       True   LL-Null:                       -310.94\n",
      "                                        LLR p-value:                    0.8185\n",
      "==============================================================================\n",
      "                 coef    std err          z      P>|z|      [0.025      0.975]\n",
      "------------------------------------------------------------------------------\n",
      "intercept      1.3292      0.128     10.346      0.000       1.077       1.581\n",
      "str.dosage     0.0052      0.023      0.229      0.819      -0.039       0.050\n",
      "==============================================================================\n"
     ]
    },
    {
     "name": "stderr",
     "output_type": "stream",
     "text": [
      "/usr/lib/python3.4/site-packages/ipykernel/__main__.py:5: SettingWithCopyWarning: \n",
      "A value is trying to be set on a copy of a slice from a DataFrame.\n",
      "Try using .loc[row_indexer,col_indexer] = value instead\n",
      "\n",
      "See the caveats in the documentation: http://pandas.pydata.org/pandas-docs/stable/indexing.html#indexing-view-versus-copy\n"
     ]
    }
   ],
   "source": [
    "df = df[df[\"STR\"]!=\".\"]\n",
    "df[\"str.dosage\"] = df[\"STR\"].apply(lambda x: sum([int(item) for item in x.split(\"|\")]))\n",
    "\n",
    "data = df[[\"pt\",\"str.dosage\"]]\n",
    "data[\"intercept\"] = 1.0\n",
    "\n",
    "logit = sm.Logit(data[\"pt\"], data[[\"intercept\",\"str.dosage\"]])\n",
    "result = logit.fit()\n",
    "print(np.exp(result.params[\"str.dosage\"]))\n",
    "print(result.summary())"
   ]
  },
  {
   "cell_type": "code",
   "execution_count": 48,
   "metadata": {
    "collapsed": false
   },
   "outputs": [
    {
     "name": "stdout",
     "output_type": "stream",
     "text": [
      "Ks_2sampResult(statistic=0.017607592865324873, pvalue=1.0)\n"
     ]
    },
    {
     "data": {
      "image/png": "[encoded data removed]",
      "text/plain": [
       "<matplotlib.figure.Figure at 0x7f0fec41eac8>"
      ]
     },
     "metadata": {},
     "output_type": "display_data"
    }
   ],
   "source": [
    "fig = plt.figure()\n",
    "ax = fig.add_subplot(111)\n",
    "casedata = list(df[df[\"pt\"]==1][\"str.dosage\"])\n",
    "ctrldata = list(df[df[\"pt\"]==0][\"str.dosage\"])\n",
    "strdata = [ctrldata, casedata]\n",
    "ax.boxplot(strdata);\n",
    "import scipy.stats\n",
    "print(scipy.stats.ks_2samp(casedata, ctrldata))"
   ]
  },
  {
   "cell_type": "code",
   "execution_count": 88,
   "metadata": {
    "collapsed": false
   },
   "outputs": [
    {
     "name": "stdout",
     "output_type": "stream",
     "text": [
      "-2 0.9489247311827957 0.2700490998363339\n",
      "0 0.7122416534181241 0.07201309328968904\n",
      "2 1.2583554376657826 0.4001636661211129\n",
      "4 0.7288786482334869 0.020458265139116204\n",
      "6 0.974025974025974 0.22585924713584288\n",
      "8 None 0.007364975450081833\n",
      "10 None 0.0016366612111292963\n",
      "12 None 0.0024549918166939444\n"
     ]
    },
    {
     "data": {
      "text/plain": [
       "<matplotlib.collections.PathCollection at 0x7f0f91e32898>"
      ]
     },
     "execution_count": 88,
     "metadata": {},
     "output_type": "execute_result"
    },
    {
     "data": {
      "image/png": "[encoded data removed]",
      "text/plain": [
       "<matplotlib.figure.Figure at 0x7f0f91ea9eb8>"
      ]
     },
     "metadata": {},
     "output_type": "display_data"
    }
   ],
   "source": [
    "# For each STR allele, get odds ratio\n",
    "alleles = set()\n",
    "for i in range(df.shape[0]):\n",
    "    strgt = df[\"STR\"].values[i].split(\"|\")\n",
    "    for item in strgt: alleles.add(int(item))\n",
    "\n",
    "def GetAlleleGT(x, a):\n",
    "    strgt = [int(int(item)==a) for item in x.split(\"|\")]\n",
    "    return sum(strgt)\n",
    "\n",
    "\n",
    "# http://bioinformatics.org.au/ws09/presentations/Day3_JStankovich.pdf\n",
    "def GetOdds(df, pcount=0):\n",
    "    # use allele.gt and pt to get odds ratio\n",
    "    r = []\n",
    "    s = []\n",
    "    for i in range(3):\n",
    "        r.append(df[(df[\"pt\"]==1) & (df[\"allele.gt\"]==i)].shape[0])\n",
    "        s.append(df[(df[\"pt\"]==0) & (df[\"allele.gt\"]==i)].shape[0])\n",
    "\n",
    "    # pseudocount\n",
    "    r = [item+pcount for item in r]\n",
    "    s = [item+pcount for item in s]\n",
    "    obs = [[2*r[0]+r[1], r[1]+2*r[2]], [2*s[0]+s[1], s[1]+2*s[2]]]\n",
    "    \n",
    "    R = sum(r)\n",
    "    S = sum(s)\n",
    "    N = R+S\n",
    "    n = [s[i]+r[i] for i in range(3)]\n",
    "    exp = [[2*R*(2*n[0]+n[1])/(2*N), 2*R*(n[1]+2*n[2])/(2*N)], \\\n",
    "           [2*S*(2*n[0]+n[1])/(2*N), 2*S*(n[1]+2*n[2])/(2*N)]]\n",
    "    \n",
    "    chisq = 0\n",
    "    for i in range(2):\n",
    "        for j in range(2):\n",
    "            chisq += (obs[i][j]-exp[i][j])**2/exp[i][j]\n",
    "    \n",
    "    try:\n",
    "        odds = (obs[0][0]/obs[1][0])/(obs[0][1]/obs[1][1])\n",
    "    except ZeroDivisionError: odds = None\n",
    "    return odds, 1 - scipy.stats.chi2.cdf(chisq, 1)\n",
    "\n",
    "alleles = sorted(list(alleles))\n",
    "all_odds = []\n",
    "all_odds_thresh = []\n",
    "freqs = []\n",
    "for a in sorted(list(alleles)):\n",
    "    df[\"allele.gt\"] = df[\"STR\"].apply(lambda x: GetAlleleGT(x, a), 1)\n",
    "    freq = np.sum(df[\"allele.gt\"])/(df.shape[0]*2)\n",
    "    odds, p = GetOdds(df, pcount=0)\n",
    "    all_odds.append(odds)\n",
    "    print(\"%s %s %s\"%(a, odds, freq))\n",
    "    \n",
    "fig = plt.figure()\n",
    "ax = fig.add_subplot(111)\n",
    "ax.scatter(alleles, all_odds, color=\"blue\")"
   ]
  },
  {
   "cell_type": "code",
   "execution_count": 79,
   "metadata": {
    "collapsed": false
   },
   "outputs": [
    {
     "data": {
      "image/png": "[encoded data removed]",
      "text/plain": [
       "<matplotlib.figure.Figure at 0x7f0f91eba550>"
      ]
     },
     "metadata": {},
     "output_type": "display_data"
    }
   ],
   "source": [
    "fig = plt.figure()\n",
    "ax = fig.add_subplot(111)\n",
    "bins = np.arange(-5, 16, 1)\n",
    "ax.hist(df[df[\"pt\"]==0][\"str.dosage\"],alpha=0.5, bins=bins, normed=True, color=\"green\");\n",
    "ax.hist(df[df[\"pt\"]==1][\"str.dosage\"],alpha=0.5, bins=bins, normed=True, color=\"blue\");"
   ]
  },
  {
   "cell_type": "code",
   "execution_count": null,
   "metadata": {
    "collapsed": true
   },
   "outputs": [],
   "source": []
  }
 ],
 "metadata": {
  "kernelspec": {
   "display_name": "Python 3",
   "language": "python",
   "name": "python3"
  },
  "language_info": {
   "codemirror_mode": {
    "name": "ipython",
    "version": 3
   },
   "file_extension": ".py",
   "mimetype": "text/x-python",
   "name": "python",
   "nbconvert_exporter": "python",
   "pygments_lexer": "ipython3",
   "version": "3.4.5"
  }
 },
 "nbformat": 4,
 "nbformat_minor": 2
}
