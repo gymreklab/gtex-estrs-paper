{
 "cells": [
  {
   "cell_type": "code",
   "execution_count": 4,
   "metadata": {},
   "outputs": [
    {
     "name": "stdout",
     "output_type": "stream",
     "text": [
      "Populating the interactive namespace from numpy and matplotlib\n"
     ]
    }
   ],
   "source": [
    "# Set up\n",
    "%pylab inline\n",
    "%run params.py\n",
    "\n",
    "# Allow us to edit fonts in Illustrator\n",
    "import matplotlib\n",
    "matplotlib.rcParams['ps.useafm'] = True\n",
    "matplotlib.rcParams['pdf.use14corefonts'] = True\n",
    "matplotlib.rcParams['text.usetex'] = True\n",
    "\n",
    "# Import libraries\n",
    "import os\n",
    "import pandas as pd\n",
    "import scipy.stats\n",
    "import seaborn as sns\n",
    "from sklearn.cluster import KMeans\n",
    "\n",
    "############ Set up paths #############\n",
    "SAVEPLOT = True\n",
    "PREFIX = \"eSTR-Model\"\n",
    "FIGPREFIX = \"Figure7\"\n",
    "DATADIR = os.path.join(BASEDATADIR, PREFIX)\n",
    "RESULTSDIR = os.path.join(BASERESULTSDIR, PREFIX)\n",
    "\n",
    "############ Load data #############\n",
    "# All ref data\n",
    "ref = pd.read_csv(os.path.join(BASEDATADIR, \"annotations\", \"hg19.hipstr_reference_annot_v2.bed\"), sep=\"\\t\")\n",
    "ref = pd.merge(ref, allstrs, on=[\"chrom\",\"str.start\"])\n",
    "ref[\"str.start\"] = ref[\"str.start\"]+1\n",
    "dnaseI = pd.read_csv(os.path.join(BASEDATADIR, \"annotations\", \"dnasehs_nearestSTR.bed\"), sep=\"\\t\",\n",
    "                 names=[\"chrom\",\"str.start\", \"x\",\"dist.dnase\"])\n",
    "dnaseI[\"str.start\"] = dnaseI[\"str.start\"]+1\n",
    "\n",
    "# eSTR\n",
    "estrs = pd.read_csv(os.path.join(BASERESULTSDIR, \"eSTR-calling\",\"SuppTable_ALLCAUSAL.csv\"))\n",
    "causal = estrs[estrs[\"score\"]>=MIN_CAUSAL_SCORE]"
   ]
  },
  {
   "cell_type": "code",
   "execution_count": 67,
   "metadata": {},
   "outputs": [],
   "source": [
    "data = pd.merge(ref, causal, on=[\"chrom\",\"str.start\"])\n",
    "data = pd.merge(data, dnaseI, on=[\"chrom\",\"str.start\"])\n",
    "data[\"dnase\"] = (data[\"dist.dnase\"].apply(abs)<500).apply(int)"
   ]
  },
  {
   "cell_type": "code",
   "execution_count": 68,
   "metadata": {},
   "outputs": [
    {
     "name": "stdout",
     "output_type": "stream",
     "text": [
      "{'hg19_promoter_1kb': 158, 'all': 3475, '3utr': 123, '5utr': 63, 'intergenic': 1258, 'coding': 16, 'hg19_promoter_3kb': 452, 'introns': 2088, 'dnase': 528}\n"
     ]
    },
    {
     "data": {
      "text/plain": [
       "{'3utr': array(['A:40', 'AC:33', 'AAAC:6', 'AAAT:5', 'AT:5'], dtype=object),\n",
       " '5utr': array(['CCG:18', 'AC:14', 'A:12', 'AAAC:4', 'AAAT:1'], dtype=object),\n",
       " 'all': array(['A:1338', 'AC:871', 'AAAT:226', 'AAAC:182', 'AT:107'], dtype=object),\n",
       " 'coding': array(['AGC:4', 'AGG:3', 'CCG:2', 'ACC:1', 'ACCCCC:1'], dtype=object),\n",
       " 'dnase': array(['AC:169', 'A:142', 'AAAC:21', 'AAAT:20', 'CCG:20'], dtype=object),\n",
       " 'hg19_promoter_1kb': array(['AC:42', 'A:35', 'CCCCG:9', 'CCG:9', 'C:7'], dtype=object),\n",
       " 'hg19_promoter_3kb': array(['A:143', 'AC:108', 'AAAC:23', 'AAAT:20', 'AT:15'], dtype=object),\n",
       " 'intergenic': array(['A:473', 'AC:319', 'AAAT:80', 'AAAC:72', 'AT:44'], dtype=object),\n",
       " 'introns': array(['A:834', 'AC:522', 'AAAT:143', 'AAAC:103', 'AT:58'], dtype=object)}"
      ]
     },
     "execution_count": 68,
     "metadata": {},
     "output_type": "execute_result"
    },
    {
     "data": {
      "image/png": "[encoded data removed]",
      "text/plain": [
       "<Figure size 288x504 with 1 Axes>"
      ]
     },
     "metadata": {
      "needs_background": "light"
     },
     "output_type": "display_data"
    }
   ],
   "source": [
    "# Get period breakdown and top motifs for each category\n",
    "\n",
    "annot_cols = [\"hg19_promoter_3kb\",\"hg19_promoter_1kb\",\"5utr\",\"coding\",\"3utr\",\"introns\",\"intergenic\",\"dnase\",\"all\"]\n",
    "annot_labels = [\"Promoter (TSS +/-3kb)\", \"Promoter (TSS +/-1kb)\", \"5' UTR\", \"Coding\", \"3' UTR\", \"Intron\", \"Intergenic\",\"DNAseI HS\",\"All FM-eSTRs\"]\n",
    "annot_totals = {}\n",
    "annot_to_period = {}\n",
    "annot_to_topmotifs = {}\n",
    "\n",
    "for col in annot_cols:\n",
    "    if col == \"all\":\n",
    "        d = data\n",
    "    else: d = data[data[col]>0]\n",
    "    vals = []\n",
    "    for p in range(1, 7):\n",
    "        vals.append(d[d[\"period\"]==p].shape[0]*1.0/d.shape[0])\n",
    "    md = d.groupby(\"motif_x\", as_index=False).agg({\"str.start\": len}).sort_values(\"str.start\", ascending=False)\n",
    "    annot_to_topmotifs[col] = md.apply(lambda x: \"%s:%s\"%(x[\"motif_x\"], x[\"str.start\"]), 1).values[0:5]\n",
    "    annot_to_period[col] = vals\n",
    "    annot_totals[col] = d.shape[0]\n",
    "\n",
    "\n",
    "\n",
    "percolors = [\"gray\",\"red\",\"darkorange\",\"blue\",\"green\",\"purple\"]\n",
    "\n",
    "fig = plt.figure()\n",
    "fig.set_size_inches((4, 7))\n",
    "ax = fig.add_subplot(111)\n",
    "\n",
    "xvals = range(len(annot_cols))\n",
    "bottoms = [0]*len(annot_cols)\n",
    "for period in range(1, 7):\n",
    "    yvals = [annot_to_period[col][period-1] for col in annot_cols]\n",
    "    ax.bar(xvals, yvals, bottom=bottoms, color=percolors[period-1], edgecolor=\"white\", width=0.9)\n",
    "    bottoms = [bottoms[i]+yvals[i] for i in range(len(bottoms))]\n",
    "ax.set_xticks(xvals)\n",
    "ax.set_xticklabels(annot_labels, rotation=90)\n",
    "ax.set_yticklabels([\"%.2f\"%item for item in ax.get_yticks()], rotation=90)\n",
    "ax.spines['right'].set_visible(False)\n",
    "ax.spines['top'].set_visible(False)\n",
    "ax.yaxis.set_ticks_position('left')\n",
    "ax.xaxis.set_ticks_position('bottom')\n",
    "fig.savefig(os.path.join(RESULTSDIR, \"%s_annotation_breakdown.pdf\"%FIGPREFIX))\n",
    "print(annot_totals)\n",
    "annot_to_topmotifs"
   ]
  },
  {
   "cell_type": "code",
   "execution_count": 46,
   "metadata": {},
   "outputs": [
    {
     "data": {
      "text/plain": [
       "'/storage/mgymrek/gtex-estrs-paper/results/eSTR-Model'"
      ]
     },
     "execution_count": 46,
     "metadata": {},
     "output_type": "execute_result"
    }
   ],
   "source": [
    "RESULTSDIR"
   ]
  }
 ],
 "metadata": {
  "kernelspec": {
   "display_name": "Python 3",
   "language": "python",
   "name": "python3"
  },
  "language_info": {
   "codemirror_mode": {
    "name": "ipython",
    "version": 3
   },
   "file_extension": ".py",
   "mimetype": "text/x-python",
   "name": "python",
   "nbconvert_exporter": "python",
   "pygments_lexer": "ipython3",
   "version": "3.4.5"
  }
 },
 "nbformat": 4,
 "nbformat_minor": 2
}
