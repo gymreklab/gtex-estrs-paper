{
 "cells": [
  {
   "cell_type": "markdown",
   "metadata": {},
   "source": [
    "# Part 2: Multi-tissue characterization of eSTRs"
   ]
  },
  {
   "cell_type": "code",
   "execution_count": 13,
   "metadata": {},
   "outputs": [
    {
     "name": "stdout",
     "output_type": "stream",
     "text": [
      "Populating the interactive namespace from numpy and matplotlib\n"
     ]
    }
   ],
   "source": [
    "# Set up\n",
    "%pylab inline\n",
    "\n",
    "# Params\n",
    "DATADIR = \"/storage/mgymrek/gtex-estrs/revision/\"\n",
    "RESULTSDIR = \"/storage/mgymrek/gtex-estrs/revision/figures\"\n",
    "\n",
    "# Allow us to edit fonts in Illustrator\n",
    "import matplotlib\n",
    "matplotlib.rcParams['ps.useafm'] = True\n",
    "matplotlib.rcParams['pdf.use14corefonts'] = True\n",
    "matplotlib.rcParams['text.usetex'] = True\n",
    "\n",
    "# Import libraries\n",
    "import os\n",
    "import pandas as pd\n",
    "import scipy.stats\n",
    "import seaborn as sns\n",
    "import statsmodels.stats.multitest\n",
    "\n",
    "############ Set up paths #############\n",
    "SAVEPLOT = True\n",
    "MIN_CAUSAL_SCORE = 0.3 # Top 5%\n",
    "GENEANNOT = \"/storage/resources/dbase/human/hg19/gencode_gene_annotations_hg19.csv\"\n",
    "\n",
    "# Load mashR results\n",
    "betas = pd.read_csv(os.path.join(DATADIR, \"mashr\", \"output-strs\", \"posterior_betas.tsv\"), sep=\"\\t\", index_col=0)\n",
    "beta_ses = pd.read_csv(os.path.join(DATADIR, \"mashr\", \"output-strs\", \"posterior_beta_ses.tsv\"), sep=\"\\t\", index_col=0)\n",
    "zscores = pd.read_csv(os.path.join(DATADIR, \"mashr\", \"output-strs\", \"zscores.tsv\"), sep=\"\\t\", index_col=0)\n",
    "ntissues = len(betas.columns)\n",
    "\n",
    "# Load eSTRs\n",
    "estrs = pd.read_csv(os.path.join(RESULTSDIR, \"SuppTable_CAVIAR.tsv\"), sep=\"\\t\")\n",
    "geneannot = pd.read_csv(GENEANNOT)\n",
    "geneannot[\"gene\"] = geneannot[\"gene.id\"].apply(lambda x: x.split(\".\")[0])\n",
    "estrs = pd.merge(estrs, geneannot[[\"gene\", \"gene.strand\",\"gene.start\",\"gene.stop\"]], on=[\"gene\"])\n",
    "estrs[\"motif\"] = estrs.apply(lambda x: x[\"str.motif.forward\"] if x[\"gene.strand\"]==\"+\" else x[\"str.motif.reverse\"], 1)\n",
    "estrs[\"dist.tss\"] = estrs.apply(lambda x: (x[\"str.start\"]-x[\"gene.start\"]) if x[\"gene.strand\"]==\"+\" else (x[\"gene.stop\"]-x[\"str.start\"]), 1)\n",
    "\n",
    "causal = estrs[estrs[\"score\"]>=MIN_CAUSAL_SCORE]\n",
    "\n",
    "ZTHRESH = 3"
   ]
  },
  {
   "cell_type": "code",
   "execution_count": 6,
   "metadata": {},
   "outputs": [],
   "source": [
    "# Load master tables\n",
    "COLORS = {\n",
    "    \"Artery-Aorta\":\"salmon\",\n",
    "    \"Artery-Tibial\": \"red\",\n",
    "    \"Adipose-Subcutaneous\": \"darkorange\",    \n",
    "    \"Adipose-Visceral\":\"orange\",\n",
    "    \"Brain-Caudate\":\"lemonchiffon\"   , \n",
    "    \"Brain-Cerebellum\":\"yellow\",\n",
    "    \"Cells-Transformedfibroblasts\": \"skyblue\",\n",
    "    \"Esophagus-Mucosa\": \"sienna\",\n",
    "    \"Esophagus-Muscularis\":\"burlywood\",\n",
    "    \"Heart-LeftVentricle\":\"darkviolet\",\n",
    "    \"Lung\": \"greenyellow\",\n",
    "    \"Muscle-Skeletal\": \"mediumslateblue\",\n",
    "    \"Nerve-Tibial\":\"gold\",\n",
    "    \"Skin-NotSunExposed\":\"blue\",\n",
    "    \"Skin-SunExposed\":\"cornflowerblue\",\n",
    "    \"Thyroid\":\"green\",\n",
    "    \"WholeBlood\": \"m\",\n",
    "}\n",
    "TISSUES = list(COLORS.keys())\n",
    "\n",
    "# Master tables\n",
    "master = {} # Map of tissue -> data\n",
    "for t in TISSUES:\n",
    "    d = pd.read_csv(os.path.join(DATADIR, \"mastertables\", \"%s_master.tab\"%t), sep=\"\\t\", \n",
    "                            usecols=[\"chrom\",\"gene\",\"gene.name\",\"str.start\",\"linreg.beta\",\"linreg.pval\", \n",
    "                                     \"linreg.significant\",\n",
    "                                     \"anova.pval\",\"caviar.str.score\",\"caviar.str.rank\",\"mashr.significant\"])\n",
    "    d[\"gene\"] = d[\"gene\"].apply(lambda x: x.split(\".\")[0])\n",
    "    d[\"signif_%s\"%t] = d[\"linreg.significant\"]\n",
    "    master[t] =  d "
   ]
  },
  {
   "cell_type": "code",
   "execution_count": 14,
   "metadata": {},
   "outputs": [],
   "source": [
    "CAUSAL_COLOR = \"black\"\n",
    "ESTR_COLOR = \"gray\"\n",
    "\n",
    "def NormTable(t, total):\n",
    "    x = t[0][0]+t[0][1]+t[1][0]\n",
    "    t[1][1] = total-x\n",
    "    return t\n",
    "\n",
    "def GetEnrichments(ref, estrs, causal, annotations, annot_col=True):\n",
    "    \"\"\"\n",
    "    Return data frame with estr and causal enrichments for all annotations\n",
    "    if annot_col, use \"annot\" column. else use annotation os the column itself\n",
    "    \"\"\"\n",
    "    num_total = []\n",
    "    num_estrs = []\n",
    "    pval_estrs = []\n",
    "    odds_estrs = []\n",
    "    num_causal = []\n",
    "    pval_causal = []\n",
    "    odds_causal = []\n",
    "    \n",
    "    dir_estrs = []\n",
    "    pval_dir_estrs = []\n",
    "    dir_causal = []\n",
    "    pval_dir_causal = []\n",
    "    \n",
    "    estrs_annot = estrs.groupby([\"chrom\",\"str.start\"], as_index=False).agg({\"beta\": maxabs})\n",
    "    causal_annot = causal.groupby([\"chrom\",\"str.start\"], as_index=False).agg({\"beta\": maxabs})\n",
    "\n",
    "    estrs_annot = pd.merge(estrs_annot[[\"chrom\",\"str.start\",\"beta\"]].drop_duplicates(), ref, on=[\"chrom\",\"str.start\"])\n",
    "    causal_annot = pd.merge(causal_annot[[\"chrom\",\"str.start\",\"beta\"]].drop_duplicates(), ref, on=[\"chrom\",\"str.start\"])\n",
    "    \n",
    "    num_total_ref = ref.shape[0]\n",
    "    num_total_estr = estrs_annot.shape[0]\n",
    "    num_total_causal = causal_annot.shape[0]\n",
    "    \n",
    "    for annot in annotations:\n",
    "        if annot_col:\n",
    "            num_annot_ref = ref[ref[\"annot\"]==annot].shape[0]\n",
    "            num_annot_estr = estrs_annot[estrs_annot[\"annot\"]==annot].shape[0]\n",
    "            num_annot_causal = causal_annot[causal_annot[\"annot\"]==annot].shape[0]\n",
    "        else:\n",
    "            num_annot_ref = ref[ref[annot]>0].shape[0]\n",
    "            num_annot_estr = estrs_annot[estrs_annot[annot]>0].shape[0]\n",
    "            num_annot_causal = causal_annot[causal_annot[annot]>0].shape[0]\n",
    "        # Test estrs\n",
    "        t_estr = NormTable([[num_annot_estr, num_total_estr-num_annot_estr], [num_annot_ref-num_annot_estr, 0]], num_total_ref)\n",
    "        o_estr, p_estr = scipy.stats.fisher_exact(t_estr)\n",
    "        # Test causal\n",
    "        t_causal = NormTable([[num_annot_causal, num_total_causal-num_annot_causal], [num_annot_ref-num_annot_causal, 0]], num_total_ref)\n",
    "        o_causal, p_causal = scipy.stats.fisher_exact(t_causal)\n",
    "        # Direction\n",
    "        if annot_col:\n",
    "            num_pos_estr = sum(estrs_annot[estrs_annot[\"annot\"]==annot][\"beta\"]>0)\n",
    "            num_pos_causal = sum(causal_annot[causal_annot[\"annot\"]==annot][\"beta\"]>0)\n",
    "        else:\n",
    "            num_pos_estr = sum(estrs_annot[estrs_annot[annot]>0][\"beta\"]>0)\n",
    "            num_pos_causal = sum(causal_annot[causal_annot[annot]>0][\"beta\"]>0)\n",
    "        dir_estrs.append(num_pos_estr*1.0/num_annot_estr)\n",
    "        dir_causal.append(num_pos_causal*1.0/num_annot_causal)                            \n",
    "        pval_dir_estrs.append(scipy.stats.binom_test(num_pos_estr, num_annot_estr))\n",
    "        pval_dir_causal.append(scipy.stats.binom_test(num_pos_causal, num_annot_causal))\n",
    "        # Add to data\n",
    "        num_total.append(num_annot_ref)\n",
    "        num_estrs.append(num_annot_estr)\n",
    "        num_causal.append(num_annot_causal)\n",
    "        odds_estrs.append(o_estr)\n",
    "        pval_estrs.append(p_estr)\n",
    "        odds_causal.append(o_causal)\n",
    "        pval_causal.append(p_causal)\n",
    "        \n",
    "    annotenrich = pd.DataFrame({\n",
    "        \"annot\": annotations,\n",
    "        \"num.total\": num_total,\n",
    "        \"num.estrs\": num_estrs,\n",
    "        \"num.causal\": num_causal,\n",
    "        \"pval.estrs\": pval_estrs,\n",
    "        \"odds.estrs\": odds_estrs,\n",
    "        \"pval.causal\": pval_causal,\n",
    "        \"odds.causal\": odds_causal,\n",
    "        \"dir.estrs\": dir_estrs,\n",
    "        \"p.dir.estrs\": pval_dir_estrs,\n",
    "        \"dir.causal\": dir_causal,\n",
    "        \"p.dir.causal\": pval_dir_causal\n",
    "    })\n",
    "    return annotenrich\n",
    "\n",
    "def maxabs(x):\n",
    "    abs_x = [abs(item) for item in x]\n",
    "    return list(x)[abs_x.index(max(abs_x))]\n",
    "\n",
    "def OutputEnrichmentTable(enrich, fname):\n",
    "    cols = [\"annot\",\"num.total\",\"num.estrs\",\"num.causal\"] + \\\n",
    "        [\"pval.estrs\",\"odds.estrs\", \"pval.causal\",\"odds.causal\"]\n",
    "    enrich.sort_values(\"odds.causal\", ascending=False)[cols].to_csv(fname, index=False)\n",
    "\n",
    "def PlotEnrich(enrich, size=None, fname=None, title=None, ax=None, log2=True):\n",
    "    #enrich = enrich.sort_values(\"odds.causal\")\n",
    "    w = 0.4\n",
    "    if ax is None:\n",
    "        fig = plt.figure()\n",
    "        if size is not None: fig.set_size_inches(size)\n",
    "        ax = fig.add_subplot(111)\n",
    "    if log2: ax.barh(range(enrich.shape[0]), np.log2(enrich[\"odds.causal\"]), color=CAUSAL_COLOR, height=w)\n",
    "    else: ax.barh(range(enrich.shape[0]), (enrich[\"odds.causal\"]), color=CAUSAL_COLOR, height=w)\n",
    "    ax.barh([item+w for item in range(enrich.shape[0])], np.log2(enrich[\"odds.estrs\"]), color=ESTR_COLOR, height=w)\n",
    "    ax.set_xlabel(\"Log2 OR\", size=15)\n",
    "    ax.set_yticks(range(enrich.shape[0]))\n",
    "    ax.set_yticklabels([item.replace(\"_\", \" \") for item in enrich[\"annot\"]], size=12)\n",
    "    ax.set_xticklabels(ax.get_xticks(), size=12);\n",
    "    ax.spines['right'].set_visible(False)\n",
    "    ax.spines['top'].set_visible(False)\n",
    "    ax.yaxis.set_ticks_position('left')\n",
    "    ax.xaxis.set_ticks_position('bottom')\n",
    "    ax.axvline(x=0, linestyle=\"dashed\", color=\"gray\")\n",
    "    if title is not None: ax.set_title(title)\n",
    "    if fname is not None: fig.savefig(fname)"
   ]
  },
  {
   "cell_type": "code",
   "execution_count": 15,
   "metadata": {},
   "outputs": [],
   "source": [
    "# Get mashR results for only eSTRs\n",
    "def FixIndex(val):\n",
    "    items = val.split(\"_\")\n",
    "    return \"%s_%s_%s\"%(items[0].split(\".\")[0], items[1], items[2])\n",
    "zscores.index = [FixIndex(item) for item in zscores.index]\n",
    "betas.index = [FixIndex(item) for item in betas.index]\n",
    "\n",
    "estrs_ind = causal.apply(lambda x: \"%s_%s_%s\"%(x[\"gene\"], x[\"chrom\"],x[\"str.start\"]), 1)\n",
    "zscores_estrs = zscores.loc[estrs_ind]\n",
    "betas_estrs = betas.loc[estrs_ind]"
   ]
  },
  {
   "cell_type": "code",
   "execution_count": 16,
   "metadata": {},
   "outputs": [],
   "source": [
    "# Get pairwise correlation\n",
    "\n",
    "# Correlation of effect sizes\n",
    "corrMatrix = np.full((ntissues, ntissues), np.nan)\n",
    "\n",
    "for tissue1 in TISSUES:\n",
    "    for tissue2 in TISSUES:\n",
    "        t1ind = TISSUES.index(tissue1)\n",
    "        t2ind = TISSUES.index(tissue2)\n",
    "        eff1 = betas_estrs[tissue1]\n",
    "        eff2 = betas_estrs[tissue2]\n",
    "        corrMatrix[t1ind, t2ind] = scipy.stats.spearmanr(eff1, eff2)[0]\n",
    "        corrMatrix[t2ind, t1ind] = corrMatrix[t1ind, t2ind]"
   ]
  },
  {
   "cell_type": "code",
   "execution_count": 17,
   "metadata": {},
   "outputs": [
    {
     "data": {
      "image/png": "[encoded data removed]",
      "text/plain": [
       "<Figure size 720x720 with 4 Axes>"
      ]
     },
     "metadata": {
      "needs_background": "light"
     },
     "output_type": "display_data"
    }
   ],
   "source": [
    "corrMatrix = pd.DataFrame(corrMatrix, columns=TISSUES, index=TISSUES)\n",
    "cg = sns.clustermap(corrMatrix, cmap=\"PuOr_r\")\n",
    "cg.ax_col_dendrogram.set_visible(False)\n",
    "if SAVEPLOT: cg.savefig(os.path.join(RESULTSDIR, \"Figure1_mashRHeatmap.pdf\"))"
   ]
  },
  {
   "cell_type": "code",
   "execution_count": 20,
   "metadata": {},
   "outputs": [
    {
     "name": "stdout",
     "output_type": "stream",
     "text": [
      "shared across 2 or more tissues: 0.8770764119601329\n",
      "shared across 10 or more tissues: 0.49169435215946844\n"
     ]
    },
    {
     "data": {
      "image/png": "[encoded data removed]",
      "text/plain": [
       "<Figure size 432x288 with 1 Axes>"
      ]
     },
     "metadata": {
      "needs_background": "light"
     },
     "output_type": "display_data"
    }
   ],
   "source": [
    "# Tissue sharing\n",
    "ZTHRESH = 4 # TODO is this a good threshold? check mashr paper\n",
    "numshared = zscores_estrs.apply(lambda x: sum(abs(x)>=ZTHRESH), 1) # takes a long time to run\n",
    "\n",
    "# Tissue sharing\n",
    "zscores_sig = zscores_estrs.copy()\n",
    "zscores_sig[\"num\"] = numshared\n",
    "zscores_sig = zscores_sig[zscores_sig[\"num\"]>0]\n",
    "signum = zscores_sig.groupby(\"num\", as_index=False).agg({\"WholeBlood\":len})\n",
    "signum.columns = [\"num.tissues\", \"num.estrs\"]\n",
    "signum[\"perc.estrs\"] = signum[\"num.estrs\"]/sum(signum[\"num.estrs\"])\n",
    "fig = plt.figure()\n",
    "ax = fig.add_subplot(111)\n",
    "ax.bar(signum[\"num.tissues\"], signum[\"perc.estrs\"], color=\"black\");\n",
    "ax.set_xticks(range(1, ntissues+1));\n",
    "ax.set_xlabel(\"Num. tissues\", size=15)\n",
    "ax.set_ylabel(\"Num. eSTRs\", size=15);\n",
    "    \n",
    "print(\"shared across 2 or more tissues: %s\"%(sum(signum[signum[\"num.tissues\"]>=2][\"perc.estrs\"])))\n",
    "print(\"shared across 10 or more tissues: %s\"%(sum(signum[signum[\"num.tissues\"]>=10][\"perc.estrs\"])))\n",
    "if SAVEPLOT: fig.savefig(os.path.join(RESULTSDIR, \"SuppFig_TissueSharing.pdf\"))"
   ]
  }
 ],
 "metadata": {
  "kernelspec": {
   "display_name": "Python 3",
   "language": "python",
   "name": "python3"
  },
  "language_info": {
   "codemirror_mode": {
    "name": "ipython",
    "version": 3
   },
   "file_extension": ".py",
   "mimetype": "text/x-python",
   "name": "python",
   "nbconvert_exporter": "python",
   "pygments_lexer": "ipython3",
   "version": "3.4.5"
  }
 },
 "nbformat": 4,
 "nbformat_minor": 2
}
