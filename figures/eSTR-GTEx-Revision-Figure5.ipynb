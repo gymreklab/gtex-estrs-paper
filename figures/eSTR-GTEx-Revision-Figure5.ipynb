{
 "cells": [
  {
   "cell_type": "code",
   "execution_count": 15,
   "metadata": {},
   "outputs": [
    {
     "name": "stdout",
     "output_type": "stream",
     "text": [
      "Populating the interactive namespace from numpy and matplotlib\n"
     ]
    }
   ],
   "source": [
    "# Set up\n",
    "%pylab inline\n",
    "\n",
    "# Params\n",
    "DATADIR = \"/storage/mgymrek/gtex-estrs/revision/\"\n",
    "RESULTSDIR = \"/storage/mgymrek/gtex-estrs/revision/figures\"\n",
    "\n",
    "# Allow us to edit fonts in Illustrator\n",
    "import matplotlib\n",
    "matplotlib.rcParams['ps.useafm'] = True\n",
    "matplotlib.rcParams['pdf.use14corefonts'] = True\n",
    "matplotlib.rcParams['text.usetex'] = True\n",
    "\n",
    "import os\n",
    "import pandas as pd\n",
    "\n",
    "BASEDATADIR = \"/storage/mgymrek/gtex-estrs-paper/data/\"\n",
    "\n",
    "SAVEPLOT = True\n",
    "PREFIX = \"eSTR-Model\"\n",
    "FIGPREFIX = \"Figure5\"\n",
    "\n",
    "############ Load data #############\n",
    "# All ref data\n",
    "allstrs = pd.read_csv(os.path.join(DATADIR, \"misc\", \"all_analyzed_strs.tab\"), sep=\"\\t\")\n",
    "ref = pd.read_csv(os.path.join(DATADIR, \"misc\", \"annotations\", \"hg19.hipstr_reference_annot.bed\"), sep=\"\\t\")\n",
    "ref[\"str.start\"]=ref[\"start\"]\n",
    "ref = pd.merge(ref, allstrs[[\"chrom\",\"str.start\"]].drop_duplicates(), on=[\"chrom\",\"str.start\"])\n",
    "dnaseI = pd.read_csv(os.path.join(BASEDATADIR, \"annotations\", \"dnasehs_nearestSTR.bed\"), sep=\"\\t\",\n",
    "                 names=[\"chrom\",\"str.start\", \"x\",\"dist.dnase\"])\n",
    "\n",
    "# eSTR\n",
    "MIN_CAUSAL_SCORE = 0.3\n",
    "estrs = pd.read_csv(os.path.join(RESULTSDIR,\"SuppTable_CAVIAR.tsv\"), sep=\"\\t\")\n",
    "causal = estrs[estrs[\"score\"]>=MIN_CAUSAL_SCORE]"
   ]
  },
  {
   "cell_type": "code",
   "execution_count": 16,
   "metadata": {},
   "outputs": [],
   "source": [
    "data = pd.merge(ref, causal, on=[\"chrom\",\"str.start\"])\n",
    "data = pd.merge(data, dnaseI, on=[\"chrom\",\"str.start\"])\n",
    "data[\"dnase\"] = (data[\"dist.dnase\"].apply(abs)<500).apply(int)"
   ]
  },
  {
   "cell_type": "code",
   "execution_count": 26,
   "metadata": {},
   "outputs": [],
   "source": [
    "data[\"intergenic\"] = ((data[\"coding\"]+data[\"introns\"]+data[\"5utr\"]+data[\"3utr\"]+data[\"hg19_promoter_3kb\"])==0).apply(int)"
   ]
  },
  {
   "cell_type": "code",
   "execution_count": 27,
   "metadata": {},
   "outputs": [
    {
     "name": "stdout",
     "output_type": "stream",
     "text": [
      "{'intergenic': 422, 'coding': 11, '3utr': 55, 'hg19_promoter_1kb': 85, '5utr': 34, 'hg19_promoter_3kb': 234, 'all': 1420, 'dnase': 228, 'introns': 819}\n"
     ]
    },
    {
     "data": {
      "text/plain": [
       "{'3utr': array(['AC:20', 'A:11', 'AAAC:4', 'AAAT:3', 'AT:2'], dtype=object),\n",
       " '5utr': array(['CCG:11', 'AC:8', 'AGCGGC:1', 'CCCGG:1', 'CCCCGG:1'], dtype=object),\n",
       " 'all': array(['A:492', 'AC:399', 'AAAT:95', 'AAAC:62', 'AT:38'], dtype=object),\n",
       " 'coding': array(['AGC:3', 'CCG:2', 'AAGGCC:1', 'ACCCCC:1', 'AGCGCC:1'], dtype=object),\n",
       " 'dnase': array(['AC:73', 'A:50', 'CCG:13', 'AG:9', 'AAAT:8'], dtype=object),\n",
       " 'hg19_promoter_1kb': array(['AC:21', 'A:15', 'C:5', 'AT:5', 'CCG:4'], dtype=object),\n",
       " 'hg19_promoter_3kb': array(['A:61', 'AC:59', 'AAAT:12', 'AAAC:11', 'C:8'], dtype=object),\n",
       " 'intergenic': array(['A:170', 'AC:120', 'AAAT:23', 'AG:13', 'AT:12'], dtype=object),\n",
       " 'introns': array(['A:284', 'AC:232', 'AAAT:67', 'AAAC:44', 'AT:23'], dtype=object)}"
      ]
     },
     "execution_count": 27,
     "metadata": {},
     "output_type": "execute_result"
    },
    {
     "data": {
      "image/png": "[encoded data removed]",
      "text/plain": [
       "<Figure size 288x504 with 1 Axes>"
      ]
     },
     "metadata": {
      "needs_background": "light"
     },
     "output_type": "display_data"
    }
   ],
   "source": [
    "# Get period breakdown and top motifs for each category\n",
    "\n",
    "annot_cols = [\"hg19_promoter_3kb\",\"hg19_promoter_1kb\",\"5utr\",\"coding\",\"3utr\",\"introns\",\"intergenic\",\"dnase\",\"all\"]\n",
    "annot_labels = [\"Promoter (TSS +/-3kb)\", \"Promoter (TSS +/-1kb)\", \"5' UTR\", \"Coding\", \"3' UTR\", \"Intron\", \"Intergenic\",\"DNAseI HS\",\"All FM-eSTRs\"]\n",
    "annot_totals = {}\n",
    "annot_to_period = {}\n",
    "annot_to_topmotifs = {}\n",
    "\n",
    "for col in annot_cols:\n",
    "    if col == \"all\":\n",
    "        d = data\n",
    "    else: d = data[data[col]>0]\n",
    "    vals = []\n",
    "    for p in range(1, 7):\n",
    "        vals.append(d[d[\"period\"]==p].shape[0]*1.0/d.shape[0])\n",
    "    md = d.groupby(\"motif\", as_index=False).agg({\"str.start\": len}).sort_values(\"str.start\", ascending=False)\n",
    "    annot_to_topmotifs[col] = md.apply(lambda x: \"%s:%s\"%(x[\"motif\"], x[\"str.start\"]), 1).values[0:5]\n",
    "    annot_to_period[col] = vals\n",
    "    annot_totals[col] = d.shape[0]\n",
    "\n",
    "\n",
    "percolors = [\"gray\",\"red\",\"darkorange\",\"blue\",\"green\",\"purple\"]\n",
    "\n",
    "fig = plt.figure()\n",
    "fig.set_size_inches((4, 7))\n",
    "ax = fig.add_subplot(111)\n",
    "\n",
    "xvals = range(len(annot_cols))\n",
    "bottoms = [0]*len(annot_cols)\n",
    "for period in range(1, 7):\n",
    "    yvals = [annot_to_period[col][period-1] for col in annot_cols]\n",
    "    ax.bar(xvals, yvals, bottom=bottoms, color=percolors[period-1], edgecolor=\"white\", width=0.9)\n",
    "    bottoms = [bottoms[i]+yvals[i] for i in range(len(bottoms))]\n",
    "ax.set_xticks(xvals)\n",
    "ax.set_xticklabels(annot_labels, rotation=90)\n",
    "ax.set_yticklabels([\"%.2f\"%item for item in ax.get_yticks()], rotation=90)\n",
    "ax.spines['right'].set_visible(False)\n",
    "ax.spines['top'].set_visible(False)\n",
    "ax.yaxis.set_ticks_position('left')\n",
    "ax.xaxis.set_ticks_position('bottom')\n",
    "fig.savefig(os.path.join(RESULTSDIR, \"%s_annotation_breakdown.pdf\"%FIGPREFIX))\n",
    "print(annot_totals)\n",
    "annot_to_topmotifs"
   ]
  }
 ],
 "metadata": {
  "kernelspec": {
   "display_name": "Python 3",
   "language": "python",
   "name": "python3"
  },
  "language_info": {
   "codemirror_mode": {
    "name": "ipython",
    "version": 3
   },
   "file_extension": ".py",
   "mimetype": "text/x-python",
   "name": "python",
   "nbconvert_exporter": "python",
   "pygments_lexer": "ipython3",
   "version": "3.4.5"
  }
 },
 "nbformat": 4,
 "nbformat_minor": 2
}
