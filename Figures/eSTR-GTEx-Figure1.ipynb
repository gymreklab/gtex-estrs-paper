{
 "cells": [
  {
   "cell_type": "markdown",
   "metadata": {},
   "source": [
    "# Part I: Profiling expression STRs across 17 human tissues\n",
    "\n",
    "This notebook contains:\n",
    "\n",
    "#### Figures:\n",
    "* **Figure 1B**: QQ plot for eSTR linear regression statistics\n",
    "* **Figure 1C**: Correlation of effect sizes across tissues\n",
    "* **Figure 1C inset**: Comparison to NG effect sizes\n",
    "\n",
    "#### Supplementary Figures:\n",
    "* **Supplementary Figure TISSUESHARING**: Number of eSTRs shared across tissues\n",
    "\n",
    "#### Tables:\n",
    "* **Table 1**: Number of samples, eSTRs, causal eSTRs per tissue\n",
    "\n",
    "#### Supplementary Tables:\n",
    "* **Supplementary Table ALLCAUSAL**: All causal examples across tissues\n",
    "\n",
    "#### Statistics:\n",
    "* Average number of genes tested per tissue\n",
    "* Average number of STR by gene tests per tissue\n",
    "* Number of unique eSTRs and eGenes\n",
    "* Correlation of effect sizes with LCL and % showing same direction\n",
    "* How many eSTRs improved model over best SNP ANOVA\n",
    "* How many eSTRs had highest CAVIAR scores\n",
    "* Number of total causal eSTRs\n",
    "\n",
    "Additionally, these notebooks contain other results presented in part I:\n",
    "* **eSTRLiteratureExamples.ipynb**: **Supplementary Table LITERATURE**, **Figure 1D**\n",
    "* **eSTRPreprocessing.ipynb**: **Supplementary Figure POPPCA**, **Supplementary Figure PEER**, how many STRs in all analyses, and population breakdown of the GTEx cohort"
   ]
  },
  {
   "cell_type": "code",
   "execution_count": 1,
   "metadata": {
    "collapsed": false
   },
   "outputs": [
    {
     "name": "stdout",
     "output_type": "stream",
     "text": [
      "Populating the interactive namespace from numpy and matplotlib\n"
     ]
    }
   ],
   "source": [
    "# Set up\n",
    "%pylab inline\n",
    "%run params.py\n",
    "\n",
    "# Allow us to edit fonts in Illustrator\n",
    "import matplotlib\n",
    "matplotlib.rcParams['ps.useafm'] = True\n",
    "matplotlib.rcParams['pdf.use14corefonts'] = True\n",
    "matplotlib.rcParams['text.usetex'] = True\n",
    "\n",
    "# Import libraries\n",
    "import os\n",
    "import pandas as pd\n",
    "import scipy.stats\n",
    "import seaborn as sns\n",
    "import statsmodels.stats.multitest\n",
    "\n",
    "############ Set up paths #############\n",
    "SAVEPLOT = True\n",
    "PREFIX = \"eSTR-calling\"\n",
    "FIGPREFIX = \"Figure1\"\n",
    "DATADIR = os.path.join(BASEDATADIR, PREFIX)\n",
    "RESULTSDIR = os.path.join(BASERESULTSDIR, PREFIX)\n",
    "\n",
    "############ Tissue info ##############\n",
    "COLORS = {\n",
    "    \"Artery-Aorta\":\"salmon\",\n",
    "    \"Artery-Tibial\": \"red\",\n",
    "    \"Adipose-Subcutaneous\": \"darkorange\",    \n",
    "    \"Adipose-Visceral\":\"orange\",\n",
    "    \"Brain-Caudate\":\"lemonchiffon\"   , \n",
    "    \"Brain-Cerebellum\":\"yellow\",\n",
    "    \"Cells-Transformedfibroblasts\": \"skyblue\",\n",
    "    \"Esophagus-Mucosa\": \"sienna\",\n",
    "    \"Esophagus-Muscularis\":\"burlywood\",\n",
    "    \"Heart-LeftVentricle\":\"darkviolet\",\n",
    "    \"Lung\": \"greenyellow\",\n",
    "    \"Muscle-Skeletal\": \"mediumslateblue\",\n",
    "    \"Nerve-Tibial\":\"gold\",\n",
    "    \"Skin-NotSunExposed\":\"blue\",\n",
    "    \"Skin-SunExposed\":\"cornflowerblue\",\n",
    "    \"Thyroid\":\"green\",\n",
    "    \"WholeBlood\": \"m\",\n",
    "    \"permuted\": \"gray\"\n",
    "}\n",
    "\n",
    "SHORTEN = {\n",
    "    \"Artery-Aorta\":\"Artery A.\"     ,\n",
    "    \"Artery-Tibial\": \"Artery T.\",\n",
    "    \"Adipose-Subcutaneous\": \"Adipose S.\",    \n",
    "    \"Adipose-Visceral\":\"Adipose V.\",\n",
    "    \"Brain-Caudate\":\"Caudate\"   , \n",
    "    \"Brain-Cerebellum\":\"Cerebellum\",\n",
    "    \"Cells-Transformedfibroblasts\": \"Fibroblast\",\n",
    "    \"Esophagus-Mucosa\": \"E. Mucosa\",\n",
    "    \"Esophagus-Muscularis\":\"E Muscularis\",\n",
    "    \"Heart-LeftVentricle\":\"Ventricle\",\n",
    "    \"Lung\": \"Lung\",\n",
    "    \"Muscle-Skeletal\": \"Muscle\",\n",
    "    \"Nerve-Tibial\":\"Nerve\",\n",
    "    \"Skin-NotSunExposed\": \"Skin Unexposed\",\n",
    "    \"Skin-SunExposed\":\"Skin Leg\",\n",
    "    \"Thyroid\":\"Thyroid\",\n",
    "    \"WholeBlood\": \"Blood\",\n",
    "    \"permuted\":\"Permuted\",\n",
    "    \"LCL\": \"LCL\"\n",
    "}\n",
    "TISSUES = [item for item in list(COLORS.keys()) if item != \"permuted\"]\n",
    "\n",
    "MINANOVAQ = 0.1 # 10% FDR for ANOVA analysis\n",
    "MINANOVAP = 0.05 # nominal p-value for ANOVA analysis\n",
    "\n",
    "############ Load data ################\n",
    "NGESTR = pd.read_csv(os.path.join(DATADIR, \"2016_estrs_table.csv\"))\n",
    "\n",
    "# Linear regression data\n",
    "data = {} # Map of tissue -> data\n",
    "for t in TISSUES:\n",
    "    data[t] = pd.read_csv(os.path.join(DATADIR, \"%s_LinearRegression.tab\"%t), sep=\"\\t\", usecols=[0,1,3,8,11])\n",
    "    # Reformat gene names and start coords\n",
    "    data[t][\"gene\"] = data[t][\"gene\"].apply(lambda x: x.split(\".\")[0])\n",
    "    data[t][\"str.start\"] = (data[t][\"str.start\"] + 1).apply(int)\n",
    "data[\"permuted\"] = pd.read_csv(os.path.join(DATADIR, \"WholeBlood_LinearRegression_permuted.tab\"), sep=\"\\t\")\n",
    "data[\"LCL\"] = NGESTR\n",
    "\n",
    "master = {} # Map of tissue -> master data. Include all loci for comparisons below\n",
    "for t in TISSUES:\n",
    "    df = pd.read_csv(os.path.join(DATADIR, \"%s_MasterTable.tab\"%t), sep=\"\\t\")\n",
    "    df = df[~np.isnan(df[\"best.str.start\"])]\n",
    "    df[\"str.start\"] = (df[\"best.str.start\"] + 1).apply(int)\n",
    "    df[\"gene\"] = df[\"gene\"].apply(lambda x: x.split(\".\")[0])\n",
    "    df = pd.merge(df, data[t], on=[\"str.start\",\"gene\",\"beta\"], how=\"outer\")\n",
    "    df[\"significant\"] = (df[\"significant\"]==1)\n",
    "    df[\"signif_%s\"%t] = df[\"significant\"]\n",
    "    master[t] = df\n",
    "master[\"LCL\"] = NGESTR\n",
    "master[\"LCL\"][\"str.id\"] = master[\"LCL\"][\"str.start\"].apply(lambda x: \"STR_%s\"%(x-1))\n",
    "master[\"LCL\"][\"significant\"] = master[\"LCL\"][\"signif.estr\"]"
   ]
  },
  {
   "cell_type": "code",
   "execution_count": 2,
   "metadata": {
    "collapsed": true
   },
   "outputs": [],
   "source": [
    "# Functions\n",
    "def concat(x):\n",
    "    return \";\".join([str(item) for item in x])"
   ]
  },
  {
   "cell_type": "markdown",
   "metadata": {},
   "source": [
    "# Figure 1B: QQ Plot"
   ]
  },
  {
   "cell_type": "code",
   "execution_count": 87,
   "metadata": {
    "collapsed": false
   },
   "outputs": [
    {
     "data": {
      "image/png": "[encoded data removed]",
      "text/plain": [
       "<matplotlib.figure.Figure at 0x7ff4f0a39a90>"
      ]
     },
     "metadata": {},
     "output_type": "display_data"
    }
   ],
   "source": [
    "TISSUES = sorted(TISSUES)\n",
    "fig = plt.figure()\n",
    "ax = fig.add_subplot(111)\n",
    "ax.spines['right'].set_visible(False)\n",
    "ax.spines['top'].set_visible(False)\n",
    "ax.yaxis.set_ticks_position('left')\n",
    "ax.xaxis.set_ticks_position('bottom')\n",
    "maxval = 0\n",
    "for t in TISSUES + [\"permuted\"]:\n",
    "    unif = sorted(list(np.random.uniform(low=0, high=1, size=data[t].shape[0])))\n",
    "    unif_log = [-1*np.log10(x) for x in unif]\n",
    "    pvals = sorted(list(data[t][\"p.wald\"]))\n",
    "    pvals_log = [-1*np.log10(x) for x in pvals]\n",
    "    maxval = max([maxval]+pvals_log)\n",
    "    ax.scatter(unif_log, pvals_log, color=COLORS[t], label=SHORTEN[t], s=6)\n",
    "ax.plot([0,6],[0,6], color=\"black\")\n",
    "ax.set_xlim(left=0, right=6)\n",
    "ax.set_ylim(bottom=0, top=maxval/5*5)\n",
    "ax.set_xlabel(\"Expected pval [-log10(p)]\", size=15)\n",
    "ax.set_ylabel(\"Observed pval [-log10(p)]\", size=15)\n",
    "ax.set_xticklabels(ax.get_xticks(), size=12)\n",
    "ax.set_yticklabels(ax.get_yticks(), size=12)\n",
    "if SAVEPLOT: fig.savefig(os.path.join(RESULTSDIR, \"%s_qqplot.png\"%FIGPREFIX))"
   ]
  },
  {
   "cell_type": "code",
   "execution_count": 88,
   "metadata": {
    "collapsed": false
   },
   "outputs": [
    {
     "data": {
      "image/png": "[encoded data removed]",
      "text/plain": [
       "<matplotlib.figure.Figure at 0x7ff4df774b00>"
      ]
     },
     "metadata": {},
     "output_type": "display_data"
    }
   ],
   "source": [
    "# Additionally plot the skeleton as pdf to use in Illustrator\n",
    "fig = plt.figure()\n",
    "ax = fig.add_subplot(111)\n",
    "for t in TISSUES + [\"permuted\"]:\n",
    "    ax.scatter([],[], color=COLORS[t], label=SHORTEN[t], s=6)\n",
    "ax.spines['right'].set_visible(False)\n",
    "ax.spines['top'].set_visible(False)\n",
    "ax.yaxis.set_ticks_position('left')\n",
    "ax.xaxis.set_ticks_position('bottom')\n",
    "ax.set_xlim(left=0, right=6)\n",
    "ax.set_ylim(bottom=0, top=maxval/5*5)\n",
    "ax.set_xlabel(\"Expected pval [-log10(p)]\", size=15)\n",
    "ax.set_ylabel(\"Observed pval [-log10(p)]\", size=15)\n",
    "ax.set_xticklabels(ax.get_xticks(), size=12)\n",
    "ax.set_yticklabels(ax.get_yticks(), size=12)\n",
    "ax.legend(bbox_to_anchor=(1.05, 1), loc=2, frameon=False);\n",
    "if SAVEPLOT: fig.savefig(os.path.join(RESULTSDIR, \"%s_qqplot_skeleton.pdf\"%FIGPREFIX))"
   ]
  },
  {
   "cell_type": "code",
   "execution_count": 15,
   "metadata": {
    "collapsed": false
   },
   "outputs": [
    {
     "name": "stdout",
     "output_type": "stream",
     "text": [
      "16064.941176471\n",
      "278521.05882353\n"
     ]
    }
   ],
   "source": [
    "%%bash -s \"$DATADIR\"\n",
    "\n",
    "DATADIR=$1\n",
    "TISSUES=\"Adipose-Subcutaneous Adipose-Visceral Artery-Aorta Artery-Tibial Brain-Caudate Brain-Cerebellum \\\n",
    "    Cells-Transformedfibroblasts Esophagus-Mucosa Esophagus-Muscularis Heart-LeftVentricle Lung \\\n",
    "    Muscle-Skeletal Nerve-Tibial Skin-NotSunExposed Skin-SunExposed Thyroid WholeBlood\"\n",
    "\n",
    "# Number of genes tested per tissue\n",
    "for t in $TISSUES\n",
    "do\n",
    "    echo $(cat ${DATADIR}/${t}_LinearRegression.tab | cut -f 1 | uniq | wc -l)\n",
    "done | datamash mean 1\n",
    "\n",
    "# Number of STR by gene tests\n",
    "for t in $TISSUES\n",
    "do\n",
    "    echo $(cat ${DATADIR}/${t}_LinearRegression.tab | grep -v gene | wc -l)\n",
    "done | datamash mean 1"
   ]
  },
  {
   "cell_type": "markdown",
   "metadata": {},
   "source": [
    "# Table 1: eSTR summary"
   ]
  },
  {
   "cell_type": "code",
   "execution_count": 28,
   "metadata": {
    "collapsed": false
   },
   "outputs": [
    {
     "name": "stdout",
     "output_type": "stream",
     "text": [
      "Skin-SunExposed: 3827 eSTRs\n",
      "Artery-Tibial: 3454 eSTRs\n",
      "Brain-Caudate: 675 eSTRs\n",
      "Lung: 2989 eSTRs\n",
      "Nerve-Tibial: 4352 eSTRs\n",
      "Cells-Transformedfibroblasts: 3088 eSTRs\n",
      "Muscle-Skeletal: 3370 eSTRs\n",
      "WholeBlood: 2585 eSTRs\n",
      "Adipose-Visceral: 1840 eSTRs\n",
      "Artery-Aorta: 2396 eSTRs\n",
      "Heart-LeftVentricle: 1731 eSTRs\n",
      "Adipose-Subcutaneous: 3587 eSTRs\n",
      "Esophagus-Mucosa: 3461 eSTRs\n",
      "Esophagus-Muscularis: 2824 eSTRs\n",
      "Skin-NotSunExposed: 2386 eSTRs\n",
      "Brain-Cerebellum: 1551 eSTRs\n",
      "Thyroid: 4105 eSTRs\n",
      "Number unique eSTRs: 25561\n",
      "Number unique genes: 11810\n"
     ]
    }
   ],
   "source": [
    "# Number of eSTRs per tissue, number total eSTRs, number genes\n",
    "\n",
    "chroms = []\n",
    "starts = []\n",
    "genes = []\n",
    "\n",
    "for t in TISSUES:\n",
    "    d = master[t]\n",
    "    estrs = d[(d[\"best.str\"]==1) & (d[\"qvalue\"]<=MINQ)]\n",
    "    print(\"%s: %s eSTRs\"%(t, estrs.shape[0]))\n",
    "    chroms.extend(list(estrs[\"chrom_x\"]))\n",
    "    starts.extend(list(estrs[\"str.start\"]))\n",
    "    genes.extend(list(estrs[\"gene\"]))\n",
    "    \n",
    "# Number of unique eSTRs\n",
    "allestrs = pd.DataFrame({\"chrom_x\": chroms, \"str.start\": starts, \"gene\": genes}).drop_duplicates()\n",
    "print(\"Number unique eSTRs: %s\"%(allestrs[[\"chrom_x\",\"str.start\",\"gene\"]].shape[0]))\n",
    "print(\"Number unique genes: %s\"%(len(set(allestrs[\"gene\"]))))"
   ]
  },
  {
   "cell_type": "code",
   "execution_count": 7,
   "metadata": {
    "collapsed": false
   },
   "outputs": [
    {
     "name": "stdout",
     "output_type": "stream",
     "text": [
      "Adipose-Subcutaneous 270\n",
      "Adipose-Visceral 193\n",
      "Artery-Aorta 191\n",
      "Artery-Tibial 276\n",
      "Brain-Caudate 108\n",
      "Brain-Cerebellum 107\n",
      "Cells-Transformedfibroblasts 225\n",
      "Esophagus-Mucosa 255\n",
      "Esophagus-Muscularis 214\n",
      "Heart-LeftVentricle 199\n",
      "Liver 102\n",
      "Lung 259\n",
      "Muscle-Skeletal 343\n",
      "Nerve-Tibial 265\n",
      "Skin-NotSunExposed 209\n",
      "Skin-SunExposed 297\n",
      "Thyroid 262\n",
      "WholeBlood 336\n"
     ]
    }
   ],
   "source": [
    "%%bash\n",
    "\n",
    "TISSUES=\"Adipose-Subcutaneous Adipose-Visceral Artery-Aorta Artery-Tibial Brain-Caudate Brain-Cerebellum \\\n",
    "    Cells-Transformedfibroblasts Esophagus-Mucosa Esophagus-Muscularis Heart-LeftVentricle Lung \\\n",
    "    Muscle-Skeletal Nerve-Tibial Skin-NotSunExposed Skin-SunExposed Thyroid WholeBlood\"\n",
    "\n",
    "for t in $TISSUES\n",
    "do\n",
    "    # Number of samples per tissue\n",
    "    numsamples=$(cat /storage/szfeupe/Runs/650GTEx_estr/Analysis_by_Tissue/${t}/Corr_Expr.csv | grep -v ENSG | wc -l)\n",
    "    echo $t $numsamples\n",
    "done"
   ]
  },
  {
   "cell_type": "markdown",
   "metadata": {},
   "source": [
    "# Supplementary Figure TISSUESHARING"
   ]
  },
  {
   "cell_type": "code",
   "execution_count": null,
   "metadata": {
    "collapsed": false
   },
   "outputs": [],
   "source": [
    "# For each eSTR, count number of tissues\n",
    "alldata = allestrs\n",
    "alldata[\"num.tissues\"] = 0\n",
    "\n",
    "for t in TISSUES:\n",
    "    x = master[t]\n",
    "    x = x[x[\"signif_%s\"%t]]\n",
    "    alldata = pd.merge(alldata, x[[\"chrom_x\",\"str.start\",\"gene\",\"signif_%s\"%t]], \\\n",
    "                   on=[\"chrom_x\",\"gene\",\"str.start\"], how=\"left\")\n",
    "    alldata = alldata.fillna({'signif_%s'%t: False})\n",
    "    alldata[\"num.tissues\"] = alldata[\"num.tissues\"]+alldata[\"signif_%s\"%t]\n",
    "    alldata = alldata.drop(\"signif_%s\"%t, 1)\n",
    "\n",
    "alldata = alldata[alldata[\"num.tissues\"]>0]"
   ]
  },
  {
   "cell_type": "code",
   "execution_count": 41,
   "metadata": {
    "collapsed": true
   },
   "outputs": [],
   "source": [
    "counts = []\n",
    "for i in range(1, 11):\n",
    "    if i == 10:\n",
    "        counts.append(alldata[alldata[\"num.tissues\"]>=i].shape[0])\n",
    "    else: counts.append(alldata[alldata[\"num.tissues\"]==i].shape[0])"
   ]
  },
  {
   "cell_type": "code",
   "execution_count": 51,
   "metadata": {
    "collapsed": false
   },
   "outputs": [
    {
     "name": "stdout",
     "output_type": "stream",
     "text": [
      "shared across 2 or more tissues: 8417\n",
      "shared across 2 or more tissues (percent): 0.3254582012218699\n",
      "shared across 10 or more tissues: 469\n"
     ]
    },
    {
     "data": {
      "image/png": "[encoded data removed]",
      "text/plain": [
       "<matplotlib.figure.Figure at 0x7ff4f04afbe0>"
      ]
     },
     "metadata": {},
     "output_type": "display_data"
    }
   ],
   "source": [
    "fig = plt.figure()\n",
    "ax = fig.add_subplot(111)\n",
    "ax.spines['right'].set_visible(False)\n",
    "ax.spines['top'].set_visible(False)\n",
    "ax.yaxis.set_ticks_position('left')\n",
    "ax.xaxis.set_ticks_position('bottom')\n",
    "\n",
    "countsbar = ax.bar(range(1, 11), counts, color=\"black\")\n",
    "ax.set_xticks(range(1, 11))\n",
    "ax.set_xticklabels([int(x) for x in ax.get_xticks()], size=12);\n",
    "ax.set_yticklabels([int(x)/1000 for x in ax.get_yticks()], size=12);\n",
    "ax.set_xlabel(\"Shared across number of tissues\", size=15)\n",
    "ax.set_ylabel(\"Thousands of eSTRs\", size=15);\n",
    "\n",
    "# Add text\n",
    "def autolabel(rects):\n",
    "    \"\"\"\n",
    "    Attach a text label above each bar displaying its height\n",
    "    \"\"\"\n",
    "    for rect in rects:\n",
    "        height = rect.get_height()\n",
    "        ax.text(rect.get_x() + rect.get_width()/2., 1.05*height,\n",
    "                '%d' % int(height),\n",
    "                ha='center', va='bottom')\n",
    "autolabel(countsbar)\n",
    "if SAVEPLOT: fig.savefig(os.path.join(RESULTSDIR,\"SuppFig_TISSUESHARING.pdf\"))\n",
    "    \n",
    "print(\"shared across 2 or more tissues: %s\"%alldata[alldata[\"num.tissues\"]>=2].shape[0])\n",
    "print(\"shared across 2 or more tissues (percent): %s\"%(alldata[alldata[\"num.tissues\"]>=2].shape[0]*1.0/alldata.shape[0]))\n",
    "print(\"shared across 10 or more tissues: %s\"%alldata[alldata[\"num.tissues\"]>=10].shape[0])"
   ]
  },
  {
   "cell_type": "markdown",
   "metadata": {},
   "source": [
    "# Figure 1C: Effect size correlation"
   ]
  },
  {
   "cell_type": "code",
   "execution_count": 9,
   "metadata": {
    "collapsed": true
   },
   "outputs": [],
   "source": [
    "ALLTISSUES = [\n",
    "    'Brain-Caudate',\n",
    "    'Brain-Cerebellum',\n",
    "         'Muscle-Skeletal',\n",
    "    'Cells-Transformedfibroblasts',\n",
    "     'Esophagus-Mucosa',\n",
    "     'Skin-NotSunExposed',\n",
    "     'Skin-SunExposed',\n",
    "     'Esophagus-Muscularis',\n",
    "    'Artery-Aorta',\n",
    "    'Artery-Tibial',\n",
    "    'Adipose-Subcutaneous',\n",
    "    'Adipose-Visceral',\n",
    "     'Lung',\n",
    "     'Thyroid',\n",
    "     'Nerve-Tibial',\n",
    "     'Heart-LeftVentricle',\n",
    "     'WholeBlood',\n",
    "]\n",
    "ALLTISSUES = ALLTISSUES[::-1]"
   ]
  },
  {
   "cell_type": "code",
   "execution_count": 6,
   "metadata": {
    "collapsed": false
   },
   "outputs": [
    {
     "name": "stdout",
     "output_type": "stream",
     "text": [
      "LCL Brain-Caudate (0.5853775675213823, 2.4912957284056583e-37) 0.7774936061381074\n",
      "LCL Brain-Cerebellum (0.43530221055298585, 8.11071454254583e-43) 0.6893095768374164\n",
      "LCL Muscle-Skeletal (0.5083043763223121, 2.2083458000324858e-119) 0.7184734513274337\n",
      "LCL Cells-Transformedfibroblasts (0.6051198474243171, 7.652476834048366e-171) 0.7777126099706745\n",
      "LCL Esophagus-Mucosa (0.5802965653458272, 1.592629417642083e-167) 0.7526939655172413\n",
      "LCL Skin-NotSunExposed (0.5596344130795076, 1.6322181649807422e-108) 0.7480857580398163\n",
      "LCL Skin-SunExposed (0.5133696062298776, 3.0825591361714705e-137) 0.7164619164619165\n",
      "LCL Esophagus-Muscularis (0.5902478663796158, 5.583679337954028e-146) 0.7648578811369509\n",
      "LCL Artery-Aorta (0.5790588253710417, 3.9451845365651727e-119) 0.7577592732778198\n",
      "LCL Artery-Tibial (0.5402926655989002, 1.5408448352310423e-141) 0.738850080601827\n",
      "LCL Adipose-Subcutaneous (0.5643775573217243, 1.0888416779136589e-164) 0.7434715821812596\n",
      "LCL Adipose-Visceral (0.6292633277540474, 5.705523325686629e-117) 0.7954329210275928\n",
      "LCL Lung (0.5980765474228924, 8.08799995592757e-156) 0.751875\n",
      "LCL Thyroid (0.482932523759743, 1.1219796006835025e-126) 0.6992133271633503\n",
      "LCL Nerve-Tibial (0.49805140931664377, 6.3551134225066206e-142) 0.7104913678618858\n",
      "LCL Heart-LeftVentricle (0.5759916889209423, 6.9412488680855415e-90) 0.7482587064676617\n",
      "LCL WholeBlood (0.5688832034400746, 2.673654982202802e-122) 0.7586450247000706\n",
      "Average pearson r with LCL: 0.553798835397755\n",
      "Percent same direction: 0.7440638852182956\n"
     ]
    }
   ],
   "source": [
    "t1 = \"LCL\"\n",
    "prs = []\n",
    "dirs = []\n",
    "\n",
    "for j in range(len(ALLTISSUES)):\n",
    "    t2 = ALLTISSUES[j]\n",
    "    if t2 == \"LCL\": continue\n",
    "    d = pd.merge(master[t1][[\"str.id\",\"gene\",\"beta\",\"significant\"]], \\\n",
    "                     master[t2][[\"str.id\",\"gene\",\"beta\",\"significant\"]], on=[\"str.id\",\"gene\"])\n",
    "    d = d[(d[\"significant_x\"]) | (d[\"significant_y\"])]\n",
    "    x = scipy.stats.pearsonr(d[\"beta_x\"], d[\"beta_y\"])\n",
    "    dsame = np.mean(np.sign(d[\"beta_x\"])==np.sign(d[\"beta_y\"]))\n",
    "    print(\"%s %s %s %s\"%(t1, t2, x, dsame))\n",
    "    prs.append(x[0])\n",
    "    dirs.append(dsame)\n",
    "print(\"Average pearson r with LCL: %s\"%np.mean(prs))\n",
    "print(\"Percent same direction: %s\"%np.mean(dirs))"
   ]
  },
  {
   "cell_type": "code",
   "execution_count": 10,
   "metadata": {
    "collapsed": false,
    "scrolled": false
   },
   "outputs": [
    {
     "name": "stdout",
     "output_type": "stream",
     "text": [
      "WholeBlood WholeBlood (1.0, 0.0)\n",
      "Heart-LeftVentricle WholeBlood (0.7586531441899401, 1.044493372963516e-201)\n",
      "Heart-LeftVentricle Heart-LeftVentricle (1.0, 0.0)\n",
      "Nerve-Tibial WholeBlood (0.7578847032814994, 0.0)\n",
      "Nerve-Tibial Heart-LeftVentricle (0.869336441370143, 0.0)\n",
      "Nerve-Tibial Nerve-Tibial (1.0, 0.0)\n",
      "Thyroid WholeBlood (0.7232459602427831, 0.0)\n",
      "Thyroid Heart-LeftVentricle (0.8569014994224614, 0.0)\n",
      "Thyroid Nerve-Tibial (0.865117358359814, 0.0)\n",
      "Thyroid Thyroid (1.0, 0.0)\n",
      "Lung WholeBlood (0.8494307257324419, 0.0)\n",
      "Lung Heart-LeftVentricle (0.8762089529170637, 0.0)\n",
      "Lung Nerve-Tibial (0.9034703273344131, 0.0)\n",
      "Lung Thyroid (0.8971095031449641, 0.0)\n",
      "Lung Lung (1.0, 0.0)\n",
      "Adipose-Visceral WholeBlood (0.8452582423376105, 0.0)\n",
      "Adipose-Visceral Heart-LeftVentricle (0.9256949486935879, 0.0)\n",
      "Adipose-Visceral Nerve-Tibial (0.9274002874416697, 0.0)\n",
      "Adipose-Visceral Thyroid (0.9059068086248869, 0.0)\n",
      "Adipose-Visceral Lung (0.9430011979108697, 0.0)\n",
      "Adipose-Visceral Adipose-Visceral (1.0, 0.0)\n",
      "Adipose-Subcutaneous WholeBlood (0.7916361170537383, 0.0)\n",
      "Adipose-Subcutaneous Heart-LeftVentricle (0.9037836055754733, 0.0)\n",
      "Adipose-Subcutaneous Nerve-Tibial (0.9242444430419136, 0.0)\n",
      "Adipose-Subcutaneous Thyroid (0.8820529853320089, 0.0)\n",
      "Adipose-Subcutaneous Lung (0.9250421837220428, 0.0)\n",
      "Adipose-Subcutaneous Adipose-Visceral (0.9571445275084723, 0.0)\n",
      "Adipose-Subcutaneous Adipose-Subcutaneous (1.0, 0.0)\n",
      "Artery-Tibial WholeBlood (0.756750791939269, 0.0)\n",
      "Artery-Tibial Heart-LeftVentricle (0.8899243873541945, 0.0)\n",
      "Artery-Tibial Nerve-Tibial (0.8975203400636861, 0.0)\n",
      "Artery-Tibial Thyroid (0.8562767221789238, 0.0)\n",
      "Artery-Tibial Lung (0.8996170081342009, 0.0)\n",
      "Artery-Tibial Adipose-Visceral (0.9302260905980474, 0.0)\n",
      "Artery-Tibial Adipose-Subcutaneous (0.9249023510253143, 0.0)\n",
      "Artery-Tibial Artery-Tibial (1.0, 0.0)\n",
      "Artery-Aorta WholeBlood (0.8217479344111006, 0.0)\n",
      "Artery-Aorta Heart-LeftVentricle (0.9046939162683543, 0.0)\n",
      "Artery-Aorta Nerve-Tibial (0.9108799808408887, 0.0)\n",
      "Artery-Aorta Thyroid (0.8820354812837831, 0.0)\n",
      "Artery-Aorta Lung (0.9218204384331559, 0.0)\n",
      "Artery-Aorta Adipose-Visceral (0.9442489015413189, 0.0)\n",
      "Artery-Aorta Adipose-Subcutaneous (0.9247323312184065, 0.0)\n",
      "Artery-Aorta Artery-Tibial (0.9536777882021583, 0.0)\n",
      "Artery-Aorta Artery-Aorta (1.0, 0.0)\n",
      "Esophagus-Muscularis WholeBlood (0.7837891898378511, 0.0)\n",
      "Esophagus-Muscularis Heart-LeftVentricle (0.9238520909684259, 0.0)\n",
      "Esophagus-Muscularis Nerve-Tibial (0.91194878336592, 0.0)\n",
      "Esophagus-Muscularis Thyroid (0.8695624451539513, 0.0)\n",
      "Esophagus-Muscularis Lung (0.9196323892325448, 0.0)\n",
      "Esophagus-Muscularis Adipose-Visceral (0.9412855289840835, 0.0)\n",
      "Esophagus-Muscularis Adipose-Subcutaneous (0.9258277782735218, 0.0)\n",
      "Esophagus-Muscularis Artery-Tibial (0.9298241898835747, 0.0)\n",
      "Esophagus-Muscularis Artery-Aorta (0.9365334511760932, 0.0)\n",
      "Esophagus-Muscularis Esophagus-Muscularis (1.0, 0.0)\n",
      "Skin-SunExposed WholeBlood (0.7529262974889688, 0.0)\n",
      "Skin-SunExposed Heart-LeftVentricle (0.8246715775345049, 0.0)\n",
      "Skin-SunExposed Nerve-Tibial (0.8600482263057363, 0.0)\n",
      "Skin-SunExposed Thyroid (0.8218690003937862, 0.0)\n",
      "Skin-SunExposed Lung (0.8827438523276361, 0.0)\n",
      "Skin-SunExposed Adipose-Visceral (0.8949043575511697, 0.0)\n",
      "Skin-SunExposed Adipose-Subcutaneous (0.8865695023036622, 0.0)\n",
      "Skin-SunExposed Artery-Tibial (0.8529575128024757, 0.0)\n",
      "Skin-SunExposed Artery-Aorta (0.8676806162418663, 0.0)\n",
      "Skin-SunExposed Esophagus-Muscularis (0.8551023620778023, 0.0)\n",
      "Skin-SunExposed Skin-SunExposed (1.0, 0.0)\n",
      "Skin-NotSunExposed WholeBlood (0.7891286909208793, 4.941545237214904e-295)\n",
      "Skin-NotSunExposed Heart-LeftVentricle (0.8667351034017601, 0.0)\n",
      "Skin-NotSunExposed Nerve-Tibial (0.8823770160790266, 0.0)\n",
      "Skin-NotSunExposed Thyroid (0.8578009376999964, 0.0)\n",
      "Skin-NotSunExposed Lung (0.8973203438802888, 0.0)\n",
      "Skin-NotSunExposed Adipose-Visceral (0.9233840363069358, 0.0)\n",
      "Skin-NotSunExposed Adipose-Subcutaneous (0.8958890649279743, 0.0)\n",
      "Skin-NotSunExposed Artery-Tibial (0.8747988196290347, 0.0)\n",
      "Skin-NotSunExposed Artery-Aorta (0.8904137420953823, 0.0)\n",
      "Skin-NotSunExposed Esophagus-Muscularis (0.874815540904295, 0.0)\n",
      "Skin-NotSunExposed Skin-SunExposed (0.9614350574370791, 0.0)\n",
      "Skin-NotSunExposed Skin-NotSunExposed (1.0, 0.0)\n",
      "Esophagus-Mucosa WholeBlood (0.7495241637277295, 5e-324)\n",
      "Esophagus-Mucosa Heart-LeftVentricle (0.8160308973027846, 0.0)\n",
      "Esophagus-Mucosa Nerve-Tibial (0.8096463801161732, 0.0)\n",
      "Esophagus-Mucosa Thyroid (0.8122227766648797, 0.0)\n",
      "Esophagus-Mucosa Lung (0.8760862410427356, 0.0)\n",
      "Esophagus-Mucosa Adipose-Visceral (0.8946319922997628, 0.0)\n",
      "Esophagus-Mucosa Adipose-Subcutaneous (0.847442064759513, 0.0)\n",
      "Esophagus-Mucosa Artery-Tibial (0.8227857419203657, 0.0)\n",
      "Esophagus-Mucosa Artery-Aorta (0.8482184451466105, 0.0)\n",
      "Esophagus-Mucosa Esophagus-Muscularis (0.8497431947269178, 0.0)\n",
      "Esophagus-Mucosa Skin-SunExposed (0.8970938574990714, 0.0)\n",
      "Esophagus-Mucosa Skin-NotSunExposed (0.9088734301910341, 0.0)\n",
      "Esophagus-Mucosa Esophagus-Mucosa (1.0, 0.0)\n",
      "Cells-Transformedfibroblasts WholeBlood (0.7347979826151462, 6.148325367149378e-278)\n",
      "Cells-Transformedfibroblasts Heart-LeftVentricle (0.853945575941468, 0.0)\n",
      "Cells-Transformedfibroblasts Nerve-Tibial (0.8391672713081845, 0.0)\n",
      "Cells-Transformedfibroblasts Thyroid (0.794392977637681, 0.0)\n",
      "Cells-Transformedfibroblasts Lung (0.8637961749886836, 0.0)\n",
      "Cells-Transformedfibroblasts Adipose-Visceral (0.9056405910619648, 0.0)\n",
      "Cells-Transformedfibroblasts Adipose-Subcutaneous (0.8824860481657708, 0.0)\n",
      "Cells-Transformedfibroblasts Artery-Tibial (0.8595438196577866, 0.0)\n",
      "Cells-Transformedfibroblasts Artery-Aorta (0.8873967400705096, 0.0)\n",
      "Cells-Transformedfibroblasts Esophagus-Muscularis (0.8731555612425274, 0.0)\n",
      "Cells-Transformedfibroblasts Skin-SunExposed (0.8115592734729138, 0.0)\n",
      "Cells-Transformedfibroblasts Skin-NotSunExposed (0.8229578331552897, 0.0)\n",
      "Cells-Transformedfibroblasts Esophagus-Mucosa (0.8304229316523273, 0.0)\n",
      "Cells-Transformedfibroblasts Cells-Transformedfibroblasts (1.0, 0.0)\n",
      "Muscle-Skeletal WholeBlood (0.6727804978057178, 2.442596685624528e-224)\n",
      "Muscle-Skeletal Heart-LeftVentricle (0.9050149164276509, 0.0)\n",
      "Muscle-Skeletal Nerve-Tibial (0.7989390353325548, 0.0)\n",
      "Muscle-Skeletal Thyroid (0.7610310974379282, 0.0)\n",
      "Muscle-Skeletal Lung (0.8153271922764139, 0.0)\n",
      "Muscle-Skeletal Adipose-Visceral (0.8774241216299531, 0.0)\n",
      "Muscle-Skeletal Adipose-Subcutaneous (0.8402357044222053, 0.0)\n",
      "Muscle-Skeletal Artery-Tibial (0.8299714962531112, 0.0)\n",
      "Muscle-Skeletal Artery-Aorta (0.8434498150419799, 0.0)\n",
      "Muscle-Skeletal Esophagus-Muscularis (0.8526243097277547, 0.0)\n",
      "Muscle-Skeletal Skin-SunExposed (0.7721117992561682, 0.0)\n",
      "Muscle-Skeletal Skin-NotSunExposed (0.8012218446210125, 0.0)\n",
      "Muscle-Skeletal Esophagus-Mucosa (0.7440451336108997, 0.0)\n",
      "Muscle-Skeletal Cells-Transformedfibroblasts (0.7745750016124566, 0.0)\n",
      "Muscle-Skeletal Muscle-Skeletal (1.0, 0.0)\n",
      "Brain-Cerebellum WholeBlood (0.6969915748426575, 4.389343923394562e-128)\n",
      "Brain-Cerebellum Heart-LeftVentricle (0.8340984072051748, 3.9486470562004456e-216)\n",
      "Brain-Cerebellum Nerve-Tibial (0.8307441057400871, 0.0)\n",
      "Brain-Cerebellum Thyroid (0.8124158409264423, 0.0)\n",
      "Brain-Cerebellum Lung (0.8046371869094007, 2.633906327647406e-270)\n",
      "Brain-Cerebellum Adipose-Visceral (0.857605887699511, 4.651279317931932e-243)\n",
      "Brain-Cerebellum Adipose-Subcutaneous (0.7955662012682381, 9.733156022146175e-275)\n",
      "Brain-Cerebellum Artery-Tibial (0.8050787043758209, 2.6458883470329815e-288)\n",
      "Brain-Cerebellum Artery-Aorta (0.8404330375033512, 1.6339501112327575e-271)\n",
      "Brain-Cerebellum Esophagus-Muscularis (0.8273209842257093, 4.413299782187885e-296)\n",
      "Brain-Cerebellum Skin-SunExposed (0.7811294341403948, 2.335229771905585e-266)\n",
      "Brain-Cerebellum Skin-NotSunExposed (0.8115686665690105, 9.053398061973725e-241)\n",
      "Brain-Cerebellum Esophagus-Mucosa (0.7510060680506544, 6.254224054807535e-217)\n",
      "Brain-Cerebellum Cells-Transformedfibroblasts (0.7318013484733692, 1.4964981221835562e-184)\n",
      "Brain-Cerebellum Muscle-Skeletal (0.7143456529689582, 4.2585266690878985e-179)\n",
      "Brain-Cerebellum Brain-Cerebellum (1.0, 0.0)\n",
      "Brain-Caudate WholeBlood (0.7976973330853802, 2.477745183262584e-101)\n",
      "Brain-Caudate Heart-LeftVentricle (0.895304144264744, 1.1696471345379113e-163)\n",
      "Brain-Caudate Nerve-Tibial (0.8789657872687187, 3.6459994347739066e-231)\n",
      "Brain-Caudate Thyroid (0.8410782185662445, 4.815632980962113e-186)\n",
      "Brain-Caudate Lung (0.8601374024345745, 1.0103708514546974e-183)\n",
      "Brain-Caudate Adipose-Visceral (0.9014985438433181, 2.8844679920126685e-183)\n",
      "Brain-Caudate Adipose-Subcutaneous (0.861101213633085, 6.147172713307717e-192)\n",
      "Brain-Caudate Artery-Tibial (0.8785927967907756, 8.440963533915895e-211)\n",
      "Brain-Caudate Artery-Aorta (0.9038271297554165, 3.962893968930617e-207)\n",
      "Brain-Caudate Esophagus-Muscularis (0.8822587814567454, 5.4068756598169794e-207)\n",
      "Brain-Caudate Skin-SunExposed (0.8518543285391115, 3.479535899773042e-182)\n",
      "Brain-Caudate Skin-NotSunExposed (0.8776834077605953, 8.572368933148933e-179)\n",
      "Brain-Caudate Esophagus-Mucosa (0.809291113086201, 2.18627850461448e-145)\n",
      "Brain-Caudate Cells-Transformedfibroblasts (0.838046924862619, 1.2141332319434764e-157)\n",
      "Brain-Caudate Muscle-Skeletal (0.8489635499745922, 1.104777745242035e-161)\n",
      "Brain-Caudate Brain-Cerebellum (0.9188901695867885, 4.607645507357438e-200)\n",
      "Brain-Caudate Brain-Caudate (1.0, 0.0)\n"
     ]
    }
   ],
   "source": [
    "pdata = np.zeros((len(ALLTISSUES), len(ALLTISSUES)))\n",
    "for i in range(len(ALLTISSUES)):\n",
    "    for j in range(i+1):\n",
    "        t1 = ALLTISSUES[i]\n",
    "        t2 = ALLTISSUES[j]\n",
    "        d = pd.merge(master[t1][[\"str.id\",\"gene\",\"beta\",\"significant\"]], \\\n",
    "                     master[t2][[\"str.id\",\"gene\",\"beta\",\"significant\"]], on=[\"str.id\",\"gene\"])\n",
    "        d = d[(d[\"significant_x\"]) | (d[\"significant_y\"])]\n",
    "        pdata[i][j] = scipy.stats.pearsonr(d[\"beta_x\"], d[\"beta_y\"])[0]\n",
    "        pdata[j][i] = scipy.stats.pearsonr(d[\"beta_x\"], d[\"beta_y\"])[0]\n",
    "        print(\"%s %s %s\"%(t1, t2, scipy.stats.pearsonr(d[\"beta_x\"], d[\"beta_y\"])))"
   ]
  },
  {
   "cell_type": "code",
   "execution_count": 11,
   "metadata": {
    "collapsed": false
   },
   "outputs": [
    {
     "data": {
      "image/png": "[encoded data removed]",
      "text/plain": [
       "<matplotlib.figure.Figure at 0x7f2b455e3278>"
      ]
     },
     "metadata": {},
     "output_type": "display_data"
    }
   ],
   "source": [
    "fig, ax = plt.subplots(figsize=(10, 8))\n",
    "cmap = sns.light_palette(\"black\") #sns.diverging_palette(265, 15, s=80, l=55, n=9, as_cmap=True)\n",
    "mask = np.zeros_like(pdata, dtype=np.bool)\n",
    "mask[np.triu_indices_from(mask)] = True\n",
    "for i in range(len(ALLTISSUES)): mask[i][i] = False\n",
    "sns.heatmap(pdata,  cmap=cmap, annot=True, annot_kws={\"size\": 8},\n",
    "            vmin=0.7, vmax=1, square=True, ax=ax, linewidths=0.5, cbar_kws={\"shrink\": 0.5},\n",
    "           xticklabels=[SHORTEN[t] for t in ALLTISSUES], \n",
    "           yticklabels=[SHORTEN[t] for t in ALLTISSUES]); #mask=mask,\n",
    "ax.invert_xaxis();\n",
    "\n",
    "if SAVEPLOT: fig.savefig(os.path.join(RESULTSDIR,\"%s_pairwisetissue_v2.pdf\"%FIGPREFIX))"
   ]
  },
  {
   "cell_type": "code",
   "execution_count": null,
   "metadata": {
    "collapsed": false
   },
   "outputs": [],
   "source": [
    "import sklearn.cluster\n",
    "model = sklearn.cluster.KMeans() #AgglomerativeClustering(n_clusters=5)\n",
    "order = model.fit_predict(pdata)\n",
    "\n",
    "order = pd.DataFrame({\"order\": order, \"ind\": range(len(order))}).sort_values(\"order\")\n",
    "order[\"newind\"] = range(order.shape[0])\n",
    "\n",
    "newpdata = np.zeros(pdata.shape)\n",
    "ALLTISSUES_new = [ALLTISSUES[order[\"ind\"].values[i]] for i in range(order.shape[0])]\n",
    "for i in range(order.shape[0]):\n",
    "    for j in range(order.shape[0]):\n",
    "        oldind1 = order[\"ind\"].values[i]\n",
    "        oldind2 = order[\"ind\"].values[j]\n",
    "        newind1 = order[\"newind\"].values[i]\n",
    "        newind2 = order[\"newind\"].values[j]\n",
    "        newpdata[newind1, newind2] = pdata[oldind1, oldind2]\n",
    "        newpdata[newind2, newind1] = pdata[oldind2, oldind1]\n",
    "        \n",
    "fig, ax = plt.subplots(figsize=(10, 8))\n",
    "cmap = sns.light_palette(\"black\") #sns.diverging_palette(265, 15, s=80, l=55, n=9, as_cmap=True)\n",
    "mask = np.zeros_like(pdata, dtype=np.bool)\n",
    "mask[np.triu_indices_from(mask)] = True\n",
    "for i in range(len(ALLTISSUES)): mask[i][i] = False\n",
    "sns.heatmap(newpdata,  cmap=cmap, annot=True, annot_kws={\"size\": 8},\n",
    "            vmin=0.7, vmax=1, square=True, ax=ax, linewidths=0.5, cbar_kws={\"shrink\": 0.5},\n",
    "           xticklabels=[SHORTEN[t] for t in ALLTISSUES_new], \n",
    "           yticklabels=[SHORTEN[t] for t in ALLTISSUES_new]); #mask=mask,\n",
    "ax.invert_xaxis();\n",
    "if SAVEPLOT: fig.savefig(os.path.join(RESULTSDIR,\"%s_pairwisetissue_v3.pdf\"%FIGPREFIX))"
   ]
  },
  {
   "cell_type": "code",
   "execution_count": 92,
   "metadata": {
    "collapsed": false
   },
   "outputs": [
    {
     "name": "stderr",
     "output_type": "stream",
     "text": [
      "/usr/lib/python3.4/site-packages/ipykernel/__main__.py:4: DeprecationWarning: In future, it will be an error for 'np.bool_' scalars to be interpreted as an index\n"
     ]
    },
    {
     "name": "stdout",
     "output_type": "stream",
     "text": [
      "(0.6231529113553886, 3.432026477461036e-154)\n",
      "0.7580645161290323\n"
     ]
    },
    {
     "data": {
      "image/png": "[encoded data removed]",
      "text/plain": [
       "<matplotlib.figure.Figure at 0x7ff4e42ecd68>"
      ]
     },
     "metadata": {},
     "output_type": "display_data"
    }
   ],
   "source": [
    "wbestr = data[\"Cells-Transformedfibroblasts\"].copy()\n",
    "merged = pd.merge(wbestr, NGESTR, on=[\"chrom\",\"str.start\",\"gene\"])\n",
    "merged = merged[merged[\"signif.estr\"]]\n",
    "merged[\"color\"] = merged.apply(lambda x: [\"gray\",\"red\"][np.sign(x[\"beta_x\"])==np.sign(x[\"beta_y\"])], 1)\n",
    "\n",
    "fig = plt.figure()\n",
    "ax = fig.add_subplot(111)\n",
    "ax.spines['right'].set_visible(False)\n",
    "ax.spines['top'].set_visible(False)\n",
    "merged = merged.round(2)\n",
    "ax.scatter((merged[\"beta_y\"]), merged[\"beta_x\"], color=list(merged[\"color\"]), s=8)\n",
    "ax.grid(b=False)\n",
    "ax.set_facecolor(\"white\")\n",
    "ax.axhline(y=0, color=\"black\", linestyle=\"dashed\")\n",
    "ax.axvline(x=0, color=\"black\", linestyle=\"dashed\")\n",
    "ax.set_xticklabels([\"%.2f\"%item for item in ax.get_xticks()], size=10)\n",
    "ax.set_yticklabels([\"%.2f\"%item for item in ax.get_yticks()], size=10);\n",
    "ax.set_xlabel(\"Effect size - LCL (Geuvadis)\", size=15)\n",
    "ax.set_ylabel(\"Effect size - Fibroblast (GTEx)\", size=15);\n",
    "\n",
    "print(str(scipy.stats.pearsonr(merged[\"beta_y\"], merged[\"beta_x\"])))\n",
    "print(str(np.mean(merged[\"color\"]==\"red\")))\n",
    "\n",
    "if SAVEPLOT: fig.savefig(os.path.join(RESULTSDIR, \"%s_effsize_inset.pdf\"%FIGPREFIX))"
   ]
  },
  {
   "cell_type": "markdown",
   "metadata": {},
   "source": [
    "# ANOVA + CAVIAR summary"
   ]
  },
  {
   "cell_type": "code",
   "execution_count": 2,
   "metadata": {
    "collapsed": false
   },
   "outputs": [
    {
     "name": "stdout",
     "output_type": "stream",
     "text": [
      "Artery-Aorta numestrs=2396 perccaviar=0.15 perc_anova=0.30 perc_anova_q=0.2474958263772955\n",
      "Thyroid numestrs=4105 perccaviar=0.13 perc_anova=0.38 perc_anova_q=0.3412911084043849\n",
      "Esophagus-Muscularis numestrs=2824 perccaviar=0.15 perc_anova=0.35 perc_anova_q=0.29992917847025496\n",
      "Muscle-Skeletal numestrs=3370 perccaviar=0.13 perc_anova=0.36 perc_anova_q=0.3195845697329377\n",
      "Lung numestrs=2989 perccaviar=0.14 perc_anova=0.34 perc_anova_q=0.28705252592840413\n",
      "Brain-Caudate numestrs=675 perccaviar=0.20 perc_anova=0.25 perc_anova_q=0.15259259259259259\n",
      "Esophagus-Mucosa numestrs=3461 perccaviar=0.13 perc_anova=0.34 perc_anova_q=0.29529037850332274\n",
      "Cells-Transformedfibroblasts numestrs=3088 perccaviar=0.13 perc_anova=0.34 perc_anova_q=0.280440414507772\n",
      "Adipose-Subcutaneous numestrs=3587 perccaviar=0.13 perc_anova=0.34 perc_anova_q=0.30387510454418737\n",
      "Nerve-Tibial numestrs=4352 perccaviar=0.12 perc_anova=0.38 perc_anova_q=0.3435202205882353\n",
      "Artery-Tibial numestrs=3454 perccaviar=0.13 perc_anova=0.35 perc_anova_q=0.30428488708743484\n",
      "Skin-NotSunExposed numestrs=2386 perccaviar=0.15 perc_anova=0.32 perc_anova_q=0.26152556580050296\n",
      "Heart-LeftVentricle numestrs=1731 perccaviar=0.19 perc_anova=0.31 perc_anova_q=0.2634315424610052\n",
      "Skin-SunExposed numestrs=3827 perccaviar=0.13 perc_anova=0.35 perc_anova_q=0.3075516070028743\n",
      "Brain-Cerebellum numestrs=1551 perccaviar=0.16 perc_anova=0.25 perc_anova_q=0.1644100580270793\n",
      "WholeBlood numestrs=2585 perccaviar=0.13 perc_anova=0.36 perc_anova_q=0.3357833655705996\n",
      "Adipose-Visceral numestrs=1840 perccaviar=0.15 perc_anova=0.30 perc_anova_q=0.23423913043478262\n",
      "\n",
      "\n",
      "Average percent best CAVIAR: 0.14326488639438767\n",
      "Average percent pass ANOVA p<0.05: 0.32962930813443453\n",
      "Average percent pass ANOVA q<0.1: 0.2789587103549215\n"
     ]
    }
   ],
   "source": [
    "# For each tissue:\n",
    "#  - how many pass ANOVA at q<0.1?\n",
    "#  - how many eSTR have highest caviar score?\n",
    "\n",
    "perc_caviar = []\n",
    "perc_anova_nom = []\n",
    "perc_anova_fdr = []\n",
    "for t in TISSUES:\n",
    "    d = master[t]\n",
    "    tissue_estrs = d[(d[\"best.str\"]==1) & (d[\"qvalue\"]<=MINQ)].copy()\n",
    "    num_estrs = tissue_estrs.shape[0]\n",
    "    num_best_caviar = tissue_estrs[tissue_estrs[\"top.variant\"].apply(lambda x: \"SNP_\" not in x)].shape[0]\n",
    "    num_anova_nom = tissue_estrs[tissue_estrs[\"anova_pval\"]<MINANOVAP].shape[0]\n",
    "    anova_p = list(tissue_estrs[\"anova_pval\"])\n",
    "    anova_p = [item for item in anova_p if not np.isnan(item)]\n",
    "    rejected, anova_q = statsmodels.stats.multitest.fdrcorrection(list(anova_p))\n",
    "    num_anova_fdr = len([item for item in anova_q if item < MINANOVAQ])\n",
    "    print(\"%s numestrs=%s perccaviar=%.2f perc_anova=%.2f perc_anova_q=%s\"%(t, num_estrs, \\\n",
    "                                                                            num_best_caviar*1.0/num_estrs, \\\n",
    "                                                                            num_anova_nom*1.0/num_estrs, \\\n",
    "                                                                           num_anova_fdr*1.0/num_estrs))\n",
    "    perc_caviar.append(num_best_caviar*1.0/num_estrs)\n",
    "    perc_anova_nom.append(num_anova_nom*1.0/num_estrs)\n",
    "    perc_anova_fdr.append(num_anova_fdr*1.0/num_estrs)\n",
    "    \n",
    "print(\"\\n\")\n",
    "print(\"Average percent best CAVIAR: %s\"%np.mean(perc_caviar))\n",
    "print(\"Average percent pass ANOVA p<%s: %s\"%(MINANOVAP, np.mean(perc_anova_nom)))\n",
    "print(\"Average percent pass ANOVA q<%s: %s\"%(MINANOVAQ, np.mean(perc_anova_fdr)))"
   ]
  },
  {
   "cell_type": "code",
   "execution_count": 6,
   "metadata": {
    "collapsed": false
   },
   "outputs": [
    {
     "name": "stdout",
     "output_type": "stream",
     "text": [
      "Brain-Caudate 103\n",
      "Muscle-Skeletal 272\n",
      "Cells-Transformedfibroblasts 248\n",
      "Nerve-Tibial 312\n",
      "Skin-NotSunExposed 200\n",
      "Heart-LeftVentricle 212\n",
      "Esophagus-Mucosa 286\n",
      "Thyroid 330\n",
      "Adipose-Visceral 175\n",
      "Esophagus-Muscularis 256\n",
      "Adipose-Subcutaneous 292\n",
      "Artery-Tibial 269\n",
      "Lung 277\n",
      "Skin-SunExposed 298\n",
      "WholeBlood 206\n",
      "Brain-Cerebellum 191\n",
      "Artery-Aorta 234\n",
      "Average pearson r with LCL: 0.4829151964490754\n",
      "Percent same direction: 0.6546872404829479\n",
      "Number total causal eSTRs: 3474\n",
      "Number total causal genes: 3046\n"
     ]
    }
   ],
   "source": [
    "# Get list of all causal\n",
    "\n",
    "chroms = []\n",
    "starts = []\n",
    "tissues = []\n",
    "genes = []\n",
    "genenames = []\n",
    "scores = []\n",
    "betas = []\n",
    "pvals = []\n",
    "qvals = []\n",
    "\n",
    "# Keep track of LCL reproducibility\n",
    "t1_data = master[\"LCL\"]\n",
    "prs = []\n",
    "dirs = []\n",
    "\n",
    "def IsCausal(x):\n",
    "    return (x[\"caviar.score\"])>=MIN_CAUSAL_SCORE\n",
    "    \n",
    "for t in TISSUES:\n",
    "    d = master[t]\n",
    "    tissue_estrs = d[(d[\"best.str\"]==1) & (d[\"qvalue\"]<=MINQ) ].copy()\n",
    "    tissue_causal = tissue_estrs[tissue_estrs.apply(IsCausal, 1)].copy()\n",
    "    chroms.extend(list(tissue_estrs[\"chrom_x\"]))\n",
    "    starts.extend(list(tissue_estrs[\"str.start\"]))\n",
    "    tissues.extend([t]*tissue_estrs.shape[0])\n",
    "    genes.extend(list(tissue_estrs[\"gene\"]))\n",
    "    genenames.extend(list(tissue_estrs[\"gene.name\"]))\n",
    "    scores.extend(list(tissue_estrs[\"caviar.score\"]))\n",
    "    betas.extend(list(tissue_estrs[\"beta\"]))\n",
    "    pvals.extend(list(tissue_estrs[\"p.wald_x\"]))\n",
    "    qvals.extend(list(tissue_estrs[\"qvalue\"]))\n",
    "    print(\"%s %s\"%(t, tissue_causal.shape[0]))\n",
    "    \n",
    "    d = pd.merge(t1_data[[\"str.id\",\"gene\",\"beta\",\"significant\"]], \\\n",
    "                     tissue_causal[[\"str.id\",\"gene\",\"beta\",\"significant\"]], on=[\"str.id\",\"gene\"])\n",
    "    d = d[(d[\"significant_x\"]) | (d[\"significant_y\"])]\n",
    "    x = scipy.stats.pearsonr(d[\"beta_x\"], d[\"beta_y\"])\n",
    "    dsame = np.mean(np.sign(d[\"beta_x\"])==np.sign(d[\"beta_y\"]))\n",
    "    #print(\"%s %s %s %s\"%(\"LCL\", t, x, dsame))\n",
    "    prs.append(x[0])\n",
    "    dirs.append(dsame)\n",
    "\n",
    "print(\"Average pearson r with LCL: %s\"%np.mean(prs))\n",
    "print(\"Percent same direction: %s\"%np.mean(dirs))\n",
    "\n",
    "all_causal = pd.DataFrame({\n",
    "    \"chrom\": chroms,\n",
    "    \"str.start\": starts,\n",
    "    \"gene\": genes,\n",
    "    \"gene.name\": genenames,\n",
    "    \"score\": scores,\n",
    "    \"beta\": betas,\n",
    "    \"tissue\": tissues,\n",
    "    \"pval\": pvals,\n",
    "    \"qval\": qvals\n",
    "})\n",
    "\n",
    "def maxabs(x):\n",
    "    abs_x = [abs(item) for item in x]\n",
    "    return list(x)[abs_x.index(max(abs_x))]\n",
    "\n",
    "all_causal[\"tissue_info\"] = all_causal.apply(lambda x: \"%s_%.2f_%.2f\"%(x[\"tissue\"], x[\"beta\"], x[\"score\"]), 1)\n",
    "all_causal[\"num.e\"] = 1\n",
    "all_unique_causal = all_causal.groupby([\"chrom\",\"str.start\",\"gene\",\"gene.name\"], as_index=False).agg({\"tissue_info\": concat,\n",
    "                                                                                              \"score\": max,\n",
    "                                                                                                    \"beta\": maxabs,\n",
    "                                                                                                     \"pval\": min,\n",
    "                                                                                                     \"qval\": min,\n",
    "                                                                                                     \"num.e\": sum})\n",
    "all_unique_causal[\"causal\"] = (all_unique_causal[\"score\"]>=MIN_CAUSAL_SCORE)\n",
    "\n",
    "# Number unique causal\n",
    "print(\"Number total causal eSTRs: %s\"%all_unique_causal[all_unique_causal[\"causal\"]].shape[0])\n",
    "print(\"Number total causal genes: %s\"%len(set(all_unique_causal[all_unique_causal[\"causal\"]][\"gene\"])))\n",
    "\n",
    "# Add strand and motif info\n",
    "hipmotif = pd.read_csv(HIPREF, sep=\"\\t\", names=[\"chrom\",\"str.start\",\"str.end\",\"period\",\"motif_pos\",\"motif_neg\"])\n",
    "hipmotif[\"str.start\"] = hipmotif[\"str.start\"]+1\n",
    "geneannot = pd.read_csv(GENEANNOT)\n",
    "geneannot[\"gene\"] = geneannot[\"gene.id\"].apply(lambda x: x.split(\".\")[0])\n",
    "geneannot[\"tss\"] = geneannot.apply(lambda x: [x[\"gene.stop\"],x[\"gene.start\"]][x[\"gene.strand\"]==\"+\"], 1)\n",
    "\n",
    "all_unique_causal = pd.merge(all_unique_causal, hipmotif[[\"chrom\",\"str.start\",\"str.end\",\"motif_pos\",\"motif_neg\"]], \\\n",
    "                            on=[\"chrom\",\"str.start\"])\n",
    "all_unique_causal = pd.merge(all_unique_causal, geneannot[[\"gene\",\"gene.strand\",\"tss\"]], on=[\"gene\"])\n",
    "all_unique_causal[\"motif\"] = all_unique_causal.apply(lambda x: x[\"motif_pos\"] if x[\"gene.strand\"]==\"+\" else x[\"motif_neg\"], 1)\n",
    "all_unique_causal[\"dist.tss\"] = all_unique_causal.apply(lambda x: (x[\"str.start\"]-x[\"tss\"]) if x[\"gene.strand\"]==\"+\" else (x[\"tss\"]-x[\"str.end\"]), 1)\n",
    "\n",
    "# Save supp table 2\n",
    "all_unique_causal = all_unique_causal[[\"chrom\",\"str.start\",\"str.end\",\"gene\",\"gene.name\",\"dist.tss\",\"motif\",\"score\",\"beta\",\"pval\",\"qval\",\"num.e\",\"causal\",\"tissue_info\"]].sort_values(\"score\", ascending=False)\n",
    "all_unique_causal.to_csv(os.path.join(RESULTSDIR, \"SuppTable_ALLCAUSAL.csv\"))"
   ]
  }
 ],
 "metadata": {
  "kernelspec": {
   "display_name": "Python 3",
   "language": "python",
   "name": "python3"
  },
  "language_info": {
   "codemirror_mode": {
    "name": "ipython",
    "version": 3
   },
   "file_extension": ".py",
   "mimetype": "text/x-python",
   "name": "python",
   "nbconvert_exporter": "python",
   "pygments_lexer": "ipython3",
   "version": "3.4.5"
  }
 },
 "nbformat": 4,
 "nbformat_minor": 2
}
